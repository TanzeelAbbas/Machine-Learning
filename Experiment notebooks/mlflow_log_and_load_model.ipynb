{
 "cells": [
  {
   "cell_type": "markdown",
   "metadata": {},
   "source": [
    "# Load Model From Hugging Face"
   ]
  },
  {
   "cell_type": "code",
   "execution_count": 1,
   "metadata": {},
   "outputs": [
    {
     "name": "stderr",
     "output_type": "stream",
     "text": [
      "/home/tanzeel/.local/lib/python3.10/site-packages/tqdm/auto.py:21: TqdmWarning: IProgress not found. Please update jupyter and ipywidgets. See https://ipywidgets.readthedocs.io/en/stable/user_install.html\n",
      "  from .autonotebook import tqdm as notebook_tqdm\n"
     ]
    }
   ],
   "source": [
    "from transformers import AutoTokenizer, AutoModelForCausalLM\n",
    "\n",
    "tokenizer = AutoTokenizer.from_pretrained(\"openai-community/gpt2\")\n",
    "model = AutoModelForCausalLM.from_pretrained(\"openai-community/gpt2\")\n"
   ]
  },
  {
   "cell_type": "markdown",
   "metadata": {},
   "source": [
    "## log model in by default experiment"
   ]
  },
  {
   "cell_type": "code",
   "execution_count": 2,
   "metadata": {},
   "outputs": [
    {
     "name": "stderr",
     "output_type": "stream",
     "text": [
      "Some non-default generation parameters are set in the model config. These should go into a GenerationConfig file (https://huggingface.co/docs/transformers/generation_strategies#save-a-custom-decoding-strategy-with-your-model) instead. This warning will be raised to an exception in v4.41.\n",
      "Non-default generation parameters: {'max_length': 50, 'do_sample': True}\n"
     ]
    }
   ],
   "source": [
    "import mlflow\n",
    "\n",
    "with mlflow.start_run():\n",
    "    components = {\n",
    "        \"model\": model,\n",
    "        \"tokenizer\": tokenizer,\n",
    "    }\n",
    "    mlflow.transformers.log_model(\n",
    "        transformers_model=components,\n",
    "        artifact_path=\"gpt_model\",\n",
    "    )"
   ]
  },
  {
   "cell_type": "markdown",
   "metadata": {},
   "source": [
    "## log model by given custom run name"
   ]
  },
  {
   "cell_type": "code",
   "execution_count": 2,
   "metadata": {},
   "outputs": [
    {
     "name": "stderr",
     "output_type": "stream",
     "text": [
      "Some non-default generation parameters are set in the model config. These should go into a GenerationConfig file (https://huggingface.co/docs/transformers/generation_strategies#save-a-custom-decoding-strategy-with-your-model) instead. This warning will be raised to an exception in v4.41.\n",
      "Non-default generation parameters: {'max_length': 50, 'do_sample': True}\n"
     ]
    }
   ],
   "source": [
    "import mlflow\n",
    "\n",
    "with mlflow.start_run() as run:\n",
    "    mlflow.set_tag('mlflow.runName', 'GPT2')\n",
    "    components = {\n",
    "        \"model\": model,\n",
    "        \"tokenizer\": tokenizer,\n",
    "    }\n",
    "    mlflow.transformers.log_model(\n",
    "        transformers_model=components,\n",
    "        artifact_path=\"gpt_model\",\n",
    "    )"
   ]
  },
  {
   "cell_type": "markdown",
   "metadata": {},
   "source": [
    "## log model with custom experiment name"
   ]
  },
  {
   "cell_type": "code",
   "execution_count": 4,
   "metadata": {},
   "outputs": [],
   "source": [
    "model_config = {\n",
    "    \"top_k\": 2,\n",
    "    \"num_beams\": 5,\n",
    "    \"max_length\": 30,\n",
    "    \"temperature\": 0.62,\n",
    "    \"top_p\": 0.85,\n",
    "    \"repetition_penalty\": 1.15,\n",
    "}"
   ]
  },
  {
   "cell_type": "code",
   "execution_count": 5,
   "metadata": {},
   "outputs": [
    {
     "name": "stderr",
     "output_type": "stream",
     "text": [
      "Some non-default generation parameters are set in the model config. These should go into a GenerationConfig file (https://huggingface.co/docs/transformers/generation_strategies#save-a-custom-decoding-strategy-with-your-model) instead. This warning will be raised to an exception in v4.41.\n",
      "Non-default generation parameters: {'max_length': 50, 'do_sample': True}\n"
     ]
    }
   ],
   "source": [
    "with mlflow.start_run(run_name='my_first_run') as run:\n",
    "    mlflow.set_experiment(\"my_first_experiment\")\n",
    "    components = {\n",
    "        \"model\": model,\n",
    "        \"tokenizer\": tokenizer,\n",
    "    }\n",
    "    mlflow.transformers.log_model(\n",
    "        transformers_model=components,\n",
    "        artifact_path=\"gpt2_model\",\n",
    "        task = \"text-generation\",\n",
    "        model_config = model_config\n",
    "    )"
   ]
  },
  {
   "cell_type": "code",
   "execution_count": 3,
   "metadata": {},
   "outputs": [
    {
     "data": {
      "text/plain": [
       "'a69e10e157ea4bae85b16cd2d8b908fb'"
      ]
     },
     "execution_count": 3,
     "metadata": {},
     "output_type": "execute_result"
    }
   ],
   "source": [
    "run.info.run_id"
   ]
  },
  {
   "cell_type": "markdown",
   "metadata": {},
   "source": [
    "## load model from mlflow"
   ]
  },
  {
   "cell_type": "code",
   "execution_count": 5,
   "metadata": {},
   "outputs": [],
   "source": [
    "model_uri = f\"runs:/{run.info.run_id}/gpt_model\"\n",
    "loaded = mlflow.pyfunc.load_model(model_uri)"
   ]
  },
  {
   "cell_type": "code",
   "execution_count": 6,
   "metadata": {},
   "outputs": [
    {
     "data": {
      "text/plain": [
       "'runs:/a69e10e157ea4bae85b16cd2d8b908fb/gpt_model'"
      ]
     },
     "execution_count": 6,
     "metadata": {},
     "output_type": "execute_result"
    }
   ],
   "source": [
    "model_uri"
   ]
  },
  {
   "cell_type": "code",
   "execution_count": 7,
   "metadata": {},
   "outputs": [
    {
     "name": "stderr",
     "output_type": "stream",
     "text": [
      "Setting `pad_token_id` to `eos_token_id`:50256 for open-end generation.\n"
     ]
    },
    {
     "data": {
      "text/plain": [
       "[\"what is gpt2' in python? That's it.\\n\\nGreeting:\\n\\n@chris.quigley @scott.kitty\\n\\nI like what you do, and I'll try to write your first\"]"
      ]
     },
     "execution_count": 7,
     "metadata": {},
     "output_type": "execute_result"
    }
   ],
   "source": [
    "loaded.predict(\"what is gpt2\")"
   ]
  },
  {
   "cell_type": "markdown",
   "metadata": {},
   "source": [
    "## Pipeline"
   ]
  },
  {
   "cell_type": "code",
   "execution_count": 2,
   "metadata": {},
   "outputs": [],
   "source": [
    "from langchain.llms import HuggingFacePipeline\n",
    "from transformers import pipeline\n",
    "\n",
    "pipe = pipeline(\n",
    "                'text-generation',\n",
    "                model=model,\n",
    "                tokenizer=tokenizer,\n",
    "                max_length=1024,\n",
    ")\n",
    "\n",
    "gpt2_llm = HuggingFacePipeline(pipeline=pipe)"
   ]
  },
  {
   "cell_type": "code",
   "execution_count": 4,
   "metadata": {},
   "outputs": [
    {
     "name": "stderr",
     "output_type": "stream",
     "text": [
      "WARNING:root:Malformed experiment 'artifacts'. Detailed error Yaml file '/home/tanzeel/Documents/Experiment notebooks/mlruns/artifacts/meta.yaml' does not exist.\n",
      "Traceback (most recent call last):\n",
      "  File \"/home/tanzeel/.local/lib/python3.10/site-packages/mlflow/store/tracking/file_store.py\", line 302, in search_experiments\n",
      "    exp = self._get_experiment(exp_id, view_type)\n",
      "  File \"/home/tanzeel/.local/lib/python3.10/site-packages/mlflow/store/tracking/file_store.py\", line 395, in _get_experiment\n",
      "    meta = FileStore._read_yaml(experiment_dir, FileStore.META_DATA_FILE_NAME)\n",
      "  File \"/home/tanzeel/.local/lib/python3.10/site-packages/mlflow/store/tracking/file_store.py\", line 1320, in _read_yaml\n",
      "    return _read_helper(root, file_name, attempts_remaining=retries)\n",
      "  File \"/home/tanzeel/.local/lib/python3.10/site-packages/mlflow/store/tracking/file_store.py\", line 1313, in _read_helper\n",
      "    result = read_yaml(root, file_name)\n",
      "  File \"/home/tanzeel/.local/lib/python3.10/site-packages/mlflow/utils/file_utils.py\", line 310, in read_yaml\n",
      "    raise MissingConfigException(f\"Yaml file '{file_path}' does not exist.\")\n",
      "mlflow.exceptions.MissingConfigException: Yaml file '/home/tanzeel/Documents/Experiment notebooks/mlruns/artifacts/meta.yaml' does not exist.\n",
      "Some non-default generation parameters are set in the model config. These should go into a GenerationConfig file (https://huggingface.co/docs/transformers/generation_strategies#save-a-custom-decoding-strategy-with-your-model) instead. This warning will be raised to an exception in v4.41.\n",
      "Non-default generation parameters: {'max_length': 50, 'do_sample': True}\n"
     ]
    }
   ],
   "source": [
    "import mlflow\n",
    "with mlflow.start_run(run_name='my_first_run') as run:\n",
    "    mlflow.set_experiment(\"my_experiment_2\")\n",
    "    mlflow.transformers.log_model(\n",
    "        transformers_model=pipe,\n",
    "        artifact_path=\"gpt2_model_with_PIELINES\",\n",
    "        task = \"text-generation\",\n",
    "    )"
   ]
  },
  {
   "cell_type": "markdown",
   "metadata": {},
   "source": [
    "## Save model in Local "
   ]
  },
  {
   "cell_type": "code",
   "execution_count": 36,
   "metadata": {},
   "outputs": [
    {
     "name": "stderr",
     "output_type": "stream",
     "text": [
      "Some non-default generation parameters are set in the model config. These should go into a GenerationConfig file (https://huggingface.co/docs/transformers/generation_strategies#save-a-custom-decoding-strategy-with-your-model) instead. This warning will be raised to an exception in v4.41.\n",
      "Non-default generation parameters: {'max_length': 50, 'do_sample': True}\n"
     ]
    }
   ],
   "source": [
    "with mlflow.start_run():\n",
    "    components = {\n",
    "        \"model\": model,\n",
    "        \"tokenizer\": tokenizer,\n",
    "    }\n",
    "    mlflow.transformers.save_model(\n",
    "        transformers_model=components,\n",
    "        path=\"home/mlflow/model\",\n",
    "    )"
   ]
  },
  {
   "cell_type": "markdown",
   "metadata": {},
   "source": [
    "### save_pretrained –\n",
    "\n",
    "If set to False, MLflow will not save the Transformer model weight files, instead only saving the reference to the HuggingFace Hub model repository and its commit hash. This is useful when you load the pretrained model from HuggingFace Hub and want to log or save it to MLflow without modifying the model weights. In such case, specifying this flag to False will save the storage space and reduce time to save the model. Please refer to the Storage-Efficient Model Logging for more detailed usage.\n",
    "\n"
   ]
  },
  {
   "cell_type": "code",
   "execution_count": null,
   "metadata": {},
   "outputs": [],
   "source": [
    "import mlflow.transformers\n",
    "\n",
    "model_uri = \"YOUR_MODEL_URI_LOGGED_WITH_SAVE_PRETRAINED_FALSE\"\n",
    "model = mlflow.transformers.persist_pretrained_model(model_uri)\n",
    "mlflow.register_model(model_uri, \"model_name\")"
   ]
  },
  {
   "cell_type": "code",
   "execution_count": 13,
   "metadata": {},
   "outputs": [
    {
     "name": "stdout",
     "output_type": "stream",
     "text": [
      "/home/tanzeel/.local/lib/python3.10/site-packages/pydantic/_internal/_config.py:322: UserWarning: Valid config keys have changed in V2:\n",
      "* 'schema_extra' has been renamed to 'json_schema_extra'\n",
      "  warnings.warn(message, UserWarning)\n",
      "[2024-03-13 10:20:59 +0500] [8403] [INFO] Starting gunicorn 20.1.0\n",
      "[2024-03-13 10:20:59 +0500] [8403] [INFO] Listening at: http://127.0.0.1:5000 (8403)\n",
      "[2024-03-13 10:20:59 +0500] [8403] [INFO] Using worker: sync\n",
      "[2024-03-13 10:20:59 +0500] [8404] [INFO] Booting worker with pid: 8404\n",
      "[2024-03-13 10:20:59 +0500] [8405] [INFO] Booting worker with pid: 8405\n",
      "[2024-03-13 10:20:59 +0500] [8421] [INFO] Booting worker with pid: 8421\n",
      "[2024-03-13 10:20:59 +0500] [8422] [INFO] Booting worker with pid: 8422\n",
      "^C\n",
      "[2024-03-13 10:22:49 +0500] [8403] [INFO] Handling signal: int\n",
      "[2024-03-13 10:22:49 +0500] [8404] [INFO] Worker exiting (pid: 8404)\n",
      "[2024-03-13 10:22:49 +0500] [8405] [INFO] Worker exiting (pid: 8405)\n",
      "[2024-03-13 10:22:49 +0500] [8422] [INFO] Worker exiting (pid: 8422)\n",
      "[2024-03-13 10:22:49 +0500] [8421] [INFO] Worker exiting (pid: 8421)\n"
     ]
    }
   ],
   "source": [
    "!mlflow ui"
   ]
  },
  {
   "cell_type": "code",
   "execution_count": 5,
   "metadata": {},
   "outputs": [
    {
     "name": "stderr",
     "output_type": "stream",
     "text": [
      "/home/tanzeel/.local/lib/python3.10/site-packages/pydantic/_internal/_config.py:322: UserWarning: Valid config keys have changed in V2:\n",
      "* 'schema_extra' has been renamed to 'json_schema_extra'\n",
      "  warnings.warn(message, UserWarning)\n"
     ]
    }
   ],
   "source": [
    "# pip install langchain\n",
    "# pip install transformers\n",
    "# pip install chromadb\n",
    "# pip install sentence_transformers\n",
    "# pip install accelerate\n",
    "# pip install bitsandbytes\n",
    "# pip install rank_bm25 > /dev/null\n",
    "from langchain.text_splitter import RecursiveCharacterTextSplitter\n",
    "from langchain.document_loaders import TextLoader\n",
    "from langchain.embeddings import HuggingFaceBgeEmbeddings\n",
    "from transformers import pipeline\n",
    "from langchain.llms import HuggingFacePipeline\n",
    "from langchain.vectorstores.chroma import Chroma\n",
    "from langchain.document_loaders import DirectoryLoader\n",
    "import pandas as pd\n",
    "import mlflow\n",
    "import mlflow.deployments\n",
    "from mlflow.deployments import set_deployments_target\n",
    "from mlflow.metrics.genai.metric_definitions import relevance, faithfulness\n"
   ]
  },
  {
   "cell_type": "code",
   "execution_count": 2,
   "metadata": {},
   "outputs": [],
   "source": [
    "def loadSplitDocuments(file_path, chunk_size, chunk_overlap):\n",
    "  loader = DirectoryLoader(file_path, glob = \"*.txt\", loader_cls=TextLoader)\n",
    "  documents = loader.load()\n",
    "  text_splitter = RecursiveCharacterTextSplitter(chunk_size = chunk_size, chunk_overlap= chunk_overlap)\n",
    "  text  = text_splitter.split_documents(documents)\n",
    "  return text\n",
    "\n",
    "\n",
    "text = loadSplitDocuments(\"Pdf_Parsers_Txt_Files\", chunk_size = 600, chunk_overlap=60)"
   ]
  },
  {
   "cell_type": "code",
   "execution_count": 6,
   "metadata": {},
   "outputs": [],
   "source": [
    "\n",
    "model_name = \"BAAI/bge-small-en\"\n",
    "model_kwargs = {\"device\": \"cuda\"}\n",
    "encode_kwargs = {\"normalize_embeddings\": True}\n",
    "\n",
    "bgeEmbeddings = HuggingFaceBgeEmbeddings(\n",
    "                                     model_name=model_name,\n",
    "                                     model_kwargs=model_kwargs,\n",
    "                                     encode_kwargs=encode_kwargs)"
   ]
  },
  {
   "cell_type": "code",
   "execution_count": 4,
   "metadata": {},
   "outputs": [],
   "source": [
    "directory = 'db'\n",
    "\n",
    "vectordb = Chroma.from_documents(\n",
    "                    documents = text,\n",
    "                    embedding = bgeEmbeddings,\n",
    "                    persist_directory= directory )\n",
    "\n",
    "vectordb.persist()"
   ]
  },
  {
   "cell_type": "markdown",
   "metadata": {},
   "source": [
    "# Retriever Evaluation\n",
    "\n",
    "####  It helps to evaluate the retriever in a RAG application. It contains three built-in metrics precision_at_k, recall_at_k and ndcg_at_k."
   ]
  },
  {
   "cell_type": "code",
   "execution_count": 7,
   "metadata": {},
   "outputs": [
    {
     "data": {
      "text/plain": [
       "[Document(page_content='The lab heating was started early morning at approximately 7 pm. Initially all\\nheaters  were  placed  at their designated  positions  in the lab. However,  after some\\nhours at around 10pm heaters were moved such that the atmosphere around the\\nactual system is targeted. Two heaters were placed at  some distance from the\\nbattery enclosure before closing it to raise the temperature of the immediate\\nsurroundings of the cell modules. Then all loggers were inspected before closing\\nthe enclosure. Once the enclosure was closed then lab was sealed and door', metadata={'source': 'Pdf_Parsers_Txt_Files/Thermal Test Report_parsed.txt'}),\n",
       " Document(page_content='Test was started at approximately 12:45 pm. At this point the ambient temperature\\naround the system was approxima tely 42 ℃and the cells were at 40 ℃. First,\\ncharging was started at 0.5C and it was stopped when SoC reached 75%. Then\\nimmediately, discharging was started at 2:10 pm at 1C which was stopped at 2:39\\npm when SoC reached 27% and charging was resumed at 0.5C.  The BMS started\\ntapering  the current  as soon  as the cells temperature  crossed  44 ℃. Charging  was\\nstopped at 4:00 pm at SoC 61% and started discharging was started at 1C.', metadata={'source': 'Pdf_Parsers_Txt_Files/Thermal Test Report_parsed.txt'}),\n",
       " Document(page_content='Discharging  was stopped  at 4:24 pm at SoC 20% and charging was  resumed.\\nHowever, charging did not resume due to its temperature range being violated.\\nOnce  the temperature  dropped  then charging  resumed  again  at which  point  the\\ntest was terminated.', metadata={'source': 'Pdf_Parsers_Txt_Files/Thermal Test Report_parsed.txt'}),\n",
       " Document(page_content='dizziness felt,if installed at heights.\\nIt is preferred that solar panels be cleaned early in the morning or late in the evening.', metadata={'source': 'Pdf_Parsers_Txt_Files/ProductManual_ HVGoodWe_parsed.txt'})]"
      ]
     },
     "execution_count": 7,
     "metadata": {},
     "output_type": "execute_result"
    }
   ],
   "source": [
    "directory = 'db'\n",
    "vectordb = Chroma(persist_directory = directory, embedding_function= bgeEmbeddings)\n",
    "\n",
    "retriever = vectordb.as_retriever(search_type = \"similarity\")\n",
    "\n",
    "docs = retriever.get_relevant_documents(\"When will the lab heating was started early morning at approximately?\")\n",
    "docs"
   ]
  },
  {
   "cell_type": "code",
   "execution_count": 24,
   "metadata": {},
   "outputs": [
    {
     "data": {
      "text/html": [
       "<div>\n",
       "<style scoped>\n",
       "    .dataframe tbody tr th:only-of-type {\n",
       "        vertical-align: middle;\n",
       "    }\n",
       "\n",
       "    .dataframe tbody tr th {\n",
       "        vertical-align: top;\n",
       "    }\n",
       "\n",
       "    .dataframe thead th {\n",
       "        text-align: right;\n",
       "    }\n",
       "</style>\n",
       "<table border=\"1\" class=\"dataframe\">\n",
       "  <thead>\n",
       "    <tr style=\"text-align: right;\">\n",
       "      <th></th>\n",
       "      <th>questions</th>\n",
       "    </tr>\n",
       "  </thead>\n",
       "  <tbody>\n",
       "    <tr>\n",
       "      <th>0</th>\n",
       "      <td>When will the lab heating was started early mo...</td>\n",
       "    </tr>\n",
       "    <tr>\n",
       "      <th>1</th>\n",
       "      <td>Explore the interactions between the NGM app, ...</td>\n",
       "    </tr>\n",
       "    <tr>\n",
       "      <th>2</th>\n",
       "      <td>How do the Cloud Manager, WiFi Wizard, and Dat...</td>\n",
       "    </tr>\n",
       "  </tbody>\n",
       "</table>\n",
       "</div>"
      ],
      "text/plain": [
       "                                           questions\n",
       "0  When will the lab heating was started early mo...\n",
       "1  Explore the interactions between the NGM app, ...\n",
       "2  How do the Cloud Manager, WiFi Wizard, and Dat..."
      ]
     },
     "metadata": {},
     "output_type": "display_data"
    }
   ],
   "source": [
    "eval_df = pd.DataFrame(\n",
    "    {\n",
    "    \"questions\": [\n",
    "    \"When will the lab heating was started early morning at approximately?\",\n",
    "    \"Explore the interactions between the NGM app, BMS Manager, and Inverter Manager in ensuring efficient communication and data exchange across various system components, highlighting their roles in initialization and operational control.\",\n",
    "    \"How do the Cloud Manager, WiFi Wizard, and Database Manager collaborate to maintain seamless connectivity and data synchronization between the local system and the cloud, considering their respective responsibilities and interactions?\",\n",
    "    # \"Discuss the collaborative efforts of the Bring Up Service, UI Manager, and Alerts Service in providing comprehensive system feedback to operators, considering their roles in initialization, user interface management, and alert generation.\",\n",
    "    # \"Explain how the Forecast Engine and Smart Flow Manager work together to optimize system performance based on forecasted data, emphasizing their roles in data processing and decision-making for backup and charge source strategies.\",\n",
    "    # \"Explore the interconnectedness of various components such as the NGM app, BMS Manager, and Inverter Manager in handling both routine operations and contingency scenarios, highlighting the importance of seamless coordination for overall system reliability.\",\n",
    "    # \"How do the NGM app, Cloud Manager, and Alerts Service contribute to system resilience in the face of network failures or hardware disconnectivity, considering their roles in system initialization, data transfer, and alert generation?\",\n",
    "    # \"Discuss the integration between the Database Manager and other components such as the Bring Up Service and UI Manager in maintaining consistent data access and user interface feedback, considering their roles in data management and system monitoring.\",\n",
    "    # \"Explain the collaborative efforts between the Inverter Manager, BMS Manager, and Smart Flow Manager in optimizing power flow and operational strategies based on real-time data and forecasted trends, emphasizing their roles in system stability and efficiency.\",\n",
    "    # \"How do the NGM app, WiFi Wizard, and Cloud Manager adapt to changing network conditions and ensure continuous system operation and data synchronization, considering their roles in network connectivity and cloud integration?\",\n",
    "    # \"Explore the overall system architecture and interactions among components such as the NGM app, Inverter Manager, and Alerts Service in ensuring reliable operation and timely response to various system events, highlighting the integration and coordination required for seamless functionality.\",\n",
    "        ],\n",
    "    }\n",
    ")\n",
    "\n",
    "display(eval_df)"
   ]
  },
  {
   "cell_type": "code",
   "execution_count": 11,
   "metadata": {},
   "outputs": [],
   "source": [
    "eval_df = pd.DataFrame(\n",
    "    {\n",
    "    \"questions\": [\n",
    "    \"When will the lab heating was started early morning at approximately?\",\n",
    "    \"Explore the interactions between the NGM app, BMS Manager, and Inverter Manager in ensuring efficient communication and data exchange across various system components, highlighting their roles in initialization and operational control.\",\n",
    "    \"How do the Cloud Manager, WiFi Wizard, and Database Manager collaborate to maintain seamless connectivity and data synchronization between the local system and the cloud, considering their respective responsibilities and interactions?\",\n",
    "        ],\n",
    "    }\n",
    ")\n",
    "\n",
    "eval_df.to_csv(\"generator_evaluation.csv\")"
   ]
  },
  {
   "cell_type": "markdown",
   "metadata": {},
   "source": [
    "#### We define a function that takes a question string as input and returns a list of relevant doc ID strings."
   ]
  },
  {
   "cell_type": "code",
   "execution_count": 9,
   "metadata": {},
   "outputs": [],
   "source": [
    "def retrieve_doc_ids(question: str):\n",
    "        docs = retriever.get_relevant_documents(question)\n",
    "        return [doc.metadata[\"source\"] for doc in docs]\n",
    "    \n",
    "    \n",
    "def retriever_model_function(question_df: pd.DataFrame) -> pd.Series:\n",
    "        return question_df[\"question\"].apply(retrieve_doc_ids)"
   ]
  },
  {
   "cell_type": "code",
   "execution_count": 10,
   "metadata": {},
   "outputs": [
    {
     "data": {
      "text/html": [
       "<div>\n",
       "<style scoped>\n",
       "    .dataframe tbody tr th:only-of-type {\n",
       "        vertical-align: middle;\n",
       "    }\n",
       "\n",
       "    .dataframe tbody tr th {\n",
       "        vertical-align: top;\n",
       "    }\n",
       "\n",
       "    .dataframe thead th {\n",
       "        text-align: right;\n",
       "    }\n",
       "</style>\n",
       "<table border=\"1\" class=\"dataframe\">\n",
       "  <thead>\n",
       "    <tr style=\"text-align: right;\">\n",
       "      <th></th>\n",
       "      <th>questions</th>\n",
       "      <th>retrieved_doc_ids</th>\n",
       "    </tr>\n",
       "  </thead>\n",
       "  <tbody>\n",
       "    <tr>\n",
       "      <th>0</th>\n",
       "      <td>When will the lab heating was started early mo...</td>\n",
       "      <td>[Pdf_Parsers_Txt_Files/Thermal Test Report_par...</td>\n",
       "    </tr>\n",
       "    <tr>\n",
       "      <th>1</th>\n",
       "      <td>Explore the interactions between the NGM app, ...</td>\n",
       "      <td>[Pdf_Parsers_Txt_Files/Basic Structure of the ...</td>\n",
       "    </tr>\n",
       "    <tr>\n",
       "      <th>2</th>\n",
       "      <td>How do the Cloud Manager, WiFi Wizard, and Dat...</td>\n",
       "      <td>[Pdf_Parsers_Txt_Files/Basic Structure of the ...</td>\n",
       "    </tr>\n",
       "  </tbody>\n",
       "</table>\n",
       "</div>"
      ],
      "text/plain": [
       "                                           questions  \\\n",
       "0  When will the lab heating was started early mo...   \n",
       "1  Explore the interactions between the NGM app, ...   \n",
       "2  How do the Cloud Manager, WiFi Wizard, and Dat...   \n",
       "\n",
       "                                   retrieved_doc_ids  \n",
       "0  [Pdf_Parsers_Txt_Files/Thermal Test Report_par...  \n",
       "1  [Pdf_Parsers_Txt_Files/Basic Structure of the ...  \n",
       "2  [Pdf_Parsers_Txt_Files/Basic Structure of the ...  "
      ]
     },
     "execution_count": 10,
     "metadata": {},
     "output_type": "execute_result"
    }
   ],
   "source": [
    "eval_df[\"retrieved_doc_ids\"] = eval_df[\"questions\"].apply(retrieve_doc_ids)\n",
    "eval_df.head(3)"
   ]
  },
  {
   "cell_type": "code",
   "execution_count": 16,
   "metadata": {},
   "outputs": [
    {
     "data": {
      "text/html": [
       "<div>\n",
       "<style scoped>\n",
       "    .dataframe tbody tr th:only-of-type {\n",
       "        vertical-align: middle;\n",
       "    }\n",
       "\n",
       "    .dataframe tbody tr th {\n",
       "        vertical-align: top;\n",
       "    }\n",
       "\n",
       "    .dataframe thead th {\n",
       "        text-align: right;\n",
       "    }\n",
       "</style>\n",
       "<table border=\"1\" class=\"dataframe\">\n",
       "  <thead>\n",
       "    <tr style=\"text-align: right;\">\n",
       "      <th></th>\n",
       "      <th>question</th>\n",
       "      <th>source</th>\n",
       "    </tr>\n",
       "  </thead>\n",
       "  <tbody>\n",
       "    <tr>\n",
       "      <th>0</th>\n",
       "      <td>When will the lab heating was started early mo...</td>\n",
       "      <td>[Pdf_Parsers_Txt_Files/Thermal Test Report_par...</td>\n",
       "    </tr>\n",
       "    <tr>\n",
       "      <th>1</th>\n",
       "      <td>Explore the interactions between the NGM app, ...</td>\n",
       "      <td>[Pdf_Parsers_Txt_Files/Basic Structure of the ...</td>\n",
       "    </tr>\n",
       "    <tr>\n",
       "      <th>2</th>\n",
       "      <td>How do the Cloud Manager, WiFi Wizard, and Dat...</td>\n",
       "      <td>[Pdf_Parsers_Txt_Files/Basic Structure of the ...</td>\n",
       "    </tr>\n",
       "    <tr>\n",
       "      <th>3</th>\n",
       "      <td>Discuss the collaborative efforts of the Bring...</td>\n",
       "      <td>[Pdf_Parsers_Txt_Files/Basic Structure of the ...</td>\n",
       "    </tr>\n",
       "    <tr>\n",
       "      <th>4</th>\n",
       "      <td>Explain how the Forecast Engine and Smart Flow...</td>\n",
       "      <td>[Pdf_Parsers_Txt_Files/Basic Structure of the ...</td>\n",
       "    </tr>\n",
       "    <tr>\n",
       "      <th>5</th>\n",
       "      <td>Explore the interconnectedness of various comp...</td>\n",
       "      <td>[Pdf_Parsers_Txt_Files/Basic Structure of the ...</td>\n",
       "    </tr>\n",
       "    <tr>\n",
       "      <th>6</th>\n",
       "      <td>How do the NGM app, Cloud Manager, and Alerts ...</td>\n",
       "      <td>[Pdf_Parsers_Txt_Files/Basic Structure of the ...</td>\n",
       "    </tr>\n",
       "    <tr>\n",
       "      <th>7</th>\n",
       "      <td>Discuss the integration between the Database M...</td>\n",
       "      <td>[Pdf_Parsers_Txt_Files/Basic Structure of the ...</td>\n",
       "    </tr>\n",
       "    <tr>\n",
       "      <th>8</th>\n",
       "      <td>Explain the collaborative efforts between the ...</td>\n",
       "      <td>[Pdf_Parsers_Txt_Files/Basic Structure of the ...</td>\n",
       "    </tr>\n",
       "    <tr>\n",
       "      <th>9</th>\n",
       "      <td>How do the NGM app, WiFi Wizard, and Cloud Man...</td>\n",
       "      <td>[Pdf_Parsers_Txt_Files/Basic Structure of the ...</td>\n",
       "    </tr>\n",
       "    <tr>\n",
       "      <th>10</th>\n",
       "      <td>Explore the overall system architecture and in...</td>\n",
       "      <td>[Pdf_Parsers_Txt_Files/Basic Structure of the ...</td>\n",
       "    </tr>\n",
       "  </tbody>\n",
       "</table>\n",
       "</div>"
      ],
      "text/plain": [
       "                                             question  \\\n",
       "0   When will the lab heating was started early mo...   \n",
       "1   Explore the interactions between the NGM app, ...   \n",
       "2   How do the Cloud Manager, WiFi Wizard, and Dat...   \n",
       "3   Discuss the collaborative efforts of the Bring...   \n",
       "4   Explain how the Forecast Engine and Smart Flow...   \n",
       "5   Explore the interconnectedness of various comp...   \n",
       "6   How do the NGM app, Cloud Manager, and Alerts ...   \n",
       "7   Discuss the integration between the Database M...   \n",
       "8   Explain the collaborative efforts between the ...   \n",
       "9   How do the NGM app, WiFi Wizard, and Cloud Man...   \n",
       "10  Explore the overall system architecture and in...   \n",
       "\n",
       "                                               source  \n",
       "0   [Pdf_Parsers_Txt_Files/Thermal Test Report_par...  \n",
       "1   [Pdf_Parsers_Txt_Files/Basic Structure of the ...  \n",
       "2   [Pdf_Parsers_Txt_Files/Basic Structure of the ...  \n",
       "3   [Pdf_Parsers_Txt_Files/Basic Structure of the ...  \n",
       "4   [Pdf_Parsers_Txt_Files/Basic Structure of the ...  \n",
       "5   [Pdf_Parsers_Txt_Files/Basic Structure of the ...  \n",
       "6   [Pdf_Parsers_Txt_Files/Basic Structure of the ...  \n",
       "7   [Pdf_Parsers_Txt_Files/Basic Structure of the ...  \n",
       "8   [Pdf_Parsers_Txt_Files/Basic Structure of the ...  \n",
       "9   [Pdf_Parsers_Txt_Files/Basic Structure of the ...  \n",
       "10  [Pdf_Parsers_Txt_Files/Basic Structure of the ...  "
      ]
     },
     "execution_count": 16,
     "metadata": {},
     "output_type": "execute_result"
    }
   ],
   "source": [
    "import pandas as pd\n",
    "import mlflow\n",
    "import mlflow.deployments\n",
    "from mlflow.deployments import set_deployments_target\n",
    "from mlflow.metrics.genai.metric_definitions import relevance\n",
    "\n",
    "\n",
    "eval_data = pd.DataFrame(\n",
    "    {\n",
    "        \"question\": [\n",
    "            \"When will the lab heating was started early morning at approximately?\",\n",
    "            \"Explore the interactions between the NGM app, BMS Manager, and Inverter Manager in ensuring efficient communication and data exchange across various system components, highlighting their roles in initialization and operational control.\",\n",
    "            \"How do the Cloud Manager, WiFi Wizard, and Database Manager collaborate to maintain seamless connectivity and data synchronization between the local system and the cloud, considering their respective responsibilities and interactions?\",\n",
    "            \"Discuss the collaborative efforts of the Bring Up Service, UI Manager, and Alerts Service in providing comprehensive system feedback to operators, considering their roles in initialization, user interface management, and alert generation.\",\n",
    "            \"Explain how the Forecast Engine and Smart Flow Manager work together to optimize system performance based on forecasted data, emphasizing their roles in data processing and decision-making for backup and charge source strategies.\",\n",
    "            \"Explore the interconnectedness of various components such as the NGM app, BMS Manager, and Inverter Manager in handling both routine operations and contingency scenarios, highlighting the importance of seamless coordination for overall system reliability.\",\n",
    "            \"How do the NGM app, Cloud Manager, and Alerts Service contribute to system resilience in the face of network failures or hardware disconnectivity, considering their roles in system initialization, data transfer, and alert generation?\",\n",
    "            \"Discuss the integration between the Database Manager and other components such as the Bring Up Service and UI Manager in maintaining consistent data access and user interface feedback, considering their roles in data management and system monitoring.\",\n",
    "            \"Explain the collaborative efforts between the Inverter Manager, BMS Manager, and Smart Flow Manager in optimizing power flow and operational strategies based on real-time data and forecasted trends, emphasizing their roles in system stability and efficiency.\",\n",
    "            \"How do the NGM app, WiFi Wizard, and Cloud Manager adapt to changing network conditions and ensure continuous system operation and data synchronization, considering their roles in network connectivity and cloud integration?\",\n",
    "            \"Explore the overall system architecture and interactions among components such as the NGM app, Inverter Manager, and Alerts Service in ensuring reliable operation and timely response to various system events, highlighting the integration and coordination required for seamless functionality.\",\n",
    "        ],\n",
    "        \"source\": [\n",
    "            [\"Pdf_Parsers_Txt_Files/Thermal Test Report_parsed.txt\"],\n",
    "            [\"Pdf_Parsers_Txt_Files/Basic Structure of the Local High Voltage Product _parsed.txt\"],\n",
    "            [\"Pdf_Parsers_Txt_Files/Basic Structure of the Local High Voltage Product _parsed.txt\"],\n",
    "            [\"Pdf_Parsers_Txt_Files/Basic Structure of the Local High Voltage Product _parsed.txt\"],\n",
    "            [\"Pdf_Parsers_Txt_Files/Basic Structure of the Local High Voltage Product _parsed.txt\"],\n",
    "            [\"Pdf_Parsers_Txt_Files/Basic Structure of the Local High Voltage Product _parsed.txt\"],\n",
    "            [\"Pdf_Parsers_Txt_Files/Basic Structure of the Local High Voltage Product _parsed.txt\"],\n",
    "            [\"Pdf_Parsers_Txt_Files/Basic Structure of the Local High Voltage Product _parsed.txt\"],\n",
    "            [\"Pdf_Parsers_Txt_Files/Basic Structure of the Local High Voltage Product _parsed.txt\"],\n",
    "            ['Pdf_Parsers_Txt_Files/Basic Structure of the Local High Voltage Product _parsed.txt'],\n",
    "            ['Pdf_Parsers_Txt_Files/Basic Structure of the Local High Voltage Product _parsed.txt'],\n",
    "        ],\n",
    "    }\n",
    ")\n",
    "eval_data"
   ]
  },
  {
   "cell_type": "code",
   "execution_count": 3,
   "metadata": {},
   "outputs": [],
   "source": [
    "eval_data.to_csv(\"evaluation_data.csv\")"
   ]
  },
  {
   "cell_type": "code",
   "execution_count": 13,
   "metadata": {},
   "outputs": [
    {
     "name": "stderr",
     "output_type": "stream",
     "text": [
      "WARNING:root:Malformed experiment 'artifacts'. Detailed error Yaml file '/home/tanzeel/Documents/Experiment notebooks/mlruns/artifacts/meta.yaml' does not exist.\n",
      "Traceback (most recent call last):\n",
      "  File \"/home/tanzeel/.local/lib/python3.10/site-packages/mlflow/store/tracking/file_store.py\", line 302, in search_experiments\n",
      "    exp = self._get_experiment(exp_id, view_type)\n",
      "  File \"/home/tanzeel/.local/lib/python3.10/site-packages/mlflow/store/tracking/file_store.py\", line 395, in _get_experiment\n",
      "    meta = FileStore._read_yaml(experiment_dir, FileStore.META_DATA_FILE_NAME)\n",
      "  File \"/home/tanzeel/.local/lib/python3.10/site-packages/mlflow/store/tracking/file_store.py\", line 1320, in _read_yaml\n",
      "    return _read_helper(root, file_name, attempts_remaining=retries)\n",
      "  File \"/home/tanzeel/.local/lib/python3.10/site-packages/mlflow/store/tracking/file_store.py\", line 1313, in _read_helper\n",
      "    result = read_yaml(root, file_name)\n",
      "  File \"/home/tanzeel/.local/lib/python3.10/site-packages/mlflow/utils/file_utils.py\", line 310, in read_yaml\n",
      "    raise MissingConfigException(f\"Yaml file '{file_path}' does not exist.\")\n",
      "mlflow.exceptions.MissingConfigException: Yaml file '/home/tanzeel/Documents/Experiment notebooks/mlruns/artifacts/meta.yaml' does not exist.\n",
      "/home/tanzeel/.local/lib/python3.10/site-packages/mlflow/data/digest_utils.py:26: FutureWarning: DataFrame.applymap has been deprecated. Use DataFrame.map instead.\n",
      "  string_columns = trimmed_df.columns[(df.applymap(type) == str).all(0)]\n",
      "/home/tanzeel/.local/lib/python3.10/site-packages/mlflow/models/evaluation/base.py:521: FutureWarning: DataFrame.applymap has been deprecated. Use DataFrame.map instead.\n",
      "  data = data.applymap(_hash_array_like_element_as_bytes)\n",
      "/home/tanzeel/.local/lib/python3.10/site-packages/mlflow/models/evaluation/base.py:521: FutureWarning: DataFrame.applymap has been deprecated. Use DataFrame.map instead.\n",
      "  data = data.applymap(_hash_array_like_element_as_bytes)\n",
      "2024/03/14 16:13:35 INFO mlflow.models.evaluation.base: Evaluating the model with the default evaluator.\n",
      "2024/03/14 16:13:35 INFO mlflow.models.evaluation.default_evaluator: Computing model predictions.\n",
      "2024/03/14 16:13:36 INFO mlflow.models.evaluation.default_evaluator: Testing metrics on first row...\n"
     ]
    },
    {
     "name": "stdout",
     "output_type": "stream",
     "text": [
      "{'precision_at_3/mean': 0.7575757575757575, 'precision_at_3/variance': 0.08264462809917356, 'precision_at_3/p90': 1.0, 'recall_at_3/mean': 1.0, 'recall_at_3/variance': 0.0, 'recall_at_3/p90': 1.0, 'ndcg_at_3/mean': 1.0, 'ndcg_at_3/variance': 0.0, 'ndcg_at_3/p90': 1.0}\n"
     ]
    },
    {
     "name": "stderr",
     "output_type": "stream",
     "text": [
      "Downloading artifacts: 100%|██████████| 1/1 [00:00<00:00, 2058.05it/s]\n"
     ]
    },
    {
     "data": {
      "text/html": [
       "<div>\n",
       "<style scoped>\n",
       "    .dataframe tbody tr th:only-of-type {\n",
       "        vertical-align: middle;\n",
       "    }\n",
       "\n",
       "    .dataframe tbody tr th {\n",
       "        vertical-align: top;\n",
       "    }\n",
       "\n",
       "    .dataframe thead th {\n",
       "        text-align: right;\n",
       "    }\n",
       "</style>\n",
       "<table border=\"1\" class=\"dataframe\">\n",
       "  <thead>\n",
       "    <tr style=\"text-align: right;\">\n",
       "      <th></th>\n",
       "      <th>question</th>\n",
       "      <th>source</th>\n",
       "      <th>outputs</th>\n",
       "      <th>precision_at_3/score</th>\n",
       "      <th>recall_at_3/score</th>\n",
       "      <th>ndcg_at_3/score</th>\n",
       "    </tr>\n",
       "  </thead>\n",
       "  <tbody>\n",
       "    <tr>\n",
       "      <th>0</th>\n",
       "      <td>When will the lab heating was started early mo...</td>\n",
       "      <td>[Pdf_Parsers_Txt_Files/Thermal Test Report_par...</td>\n",
       "      <td>[Pdf_Parsers_Txt_Files/Thermal Test Report_par...</td>\n",
       "      <td>1.000000</td>\n",
       "      <td>1</td>\n",
       "      <td>1</td>\n",
       "    </tr>\n",
       "    <tr>\n",
       "      <th>1</th>\n",
       "      <td>Explore the interactions between the NGM app, ...</td>\n",
       "      <td>[Pdf_Parsers_Txt_Files/Basic Structure of the ...</td>\n",
       "      <td>[Pdf_Parsers_Txt_Files/Basic Structure of the ...</td>\n",
       "      <td>1.000000</td>\n",
       "      <td>1</td>\n",
       "      <td>1</td>\n",
       "    </tr>\n",
       "    <tr>\n",
       "      <th>2</th>\n",
       "      <td>How do the Cloud Manager, WiFi Wizard, and Dat...</td>\n",
       "      <td>[Pdf_Parsers_Txt_Files/Basic Structure of the ...</td>\n",
       "      <td>[Pdf_Parsers_Txt_Files/Basic Structure of the ...</td>\n",
       "      <td>0.666667</td>\n",
       "      <td>1</td>\n",
       "      <td>1</td>\n",
       "    </tr>\n",
       "    <tr>\n",
       "      <th>3</th>\n",
       "      <td>Discuss the collaborative efforts of the Bring...</td>\n",
       "      <td>[Pdf_Parsers_Txt_Files/Basic Structure of the ...</td>\n",
       "      <td>[Pdf_Parsers_Txt_Files/Basic Structure of the ...</td>\n",
       "      <td>0.333333</td>\n",
       "      <td>1</td>\n",
       "      <td>1</td>\n",
       "    </tr>\n",
       "    <tr>\n",
       "      <th>4</th>\n",
       "      <td>Explain how the Forecast Engine and Smart Flow...</td>\n",
       "      <td>[Pdf_Parsers_Txt_Files/Basic Structure of the ...</td>\n",
       "      <td>[Pdf_Parsers_Txt_Files/Basic Structure of the ...</td>\n",
       "      <td>0.333333</td>\n",
       "      <td>1</td>\n",
       "      <td>1</td>\n",
       "    </tr>\n",
       "    <tr>\n",
       "      <th>5</th>\n",
       "      <td>Explore the interconnectedness of various comp...</td>\n",
       "      <td>[Pdf_Parsers_Txt_Files/Basic Structure of the ...</td>\n",
       "      <td>[Pdf_Parsers_Txt_Files/Basic Structure of the ...</td>\n",
       "      <td>1.000000</td>\n",
       "      <td>1</td>\n",
       "      <td>1</td>\n",
       "    </tr>\n",
       "    <tr>\n",
       "      <th>6</th>\n",
       "      <td>How do the NGM app, Cloud Manager, and Alerts ...</td>\n",
       "      <td>[Pdf_Parsers_Txt_Files/Basic Structure of the ...</td>\n",
       "      <td>[Pdf_Parsers_Txt_Files/Basic Structure of the ...</td>\n",
       "      <td>1.000000</td>\n",
       "      <td>1</td>\n",
       "      <td>1</td>\n",
       "    </tr>\n",
       "    <tr>\n",
       "      <th>7</th>\n",
       "      <td>Discuss the integration between the Database M...</td>\n",
       "      <td>[Pdf_Parsers_Txt_Files/Basic Structure of the ...</td>\n",
       "      <td>[Pdf_Parsers_Txt_Files/Basic Structure of the ...</td>\n",
       "      <td>0.333333</td>\n",
       "      <td>1</td>\n",
       "      <td>1</td>\n",
       "    </tr>\n",
       "    <tr>\n",
       "      <th>8</th>\n",
       "      <td>Explain the collaborative efforts between the ...</td>\n",
       "      <td>[Pdf_Parsers_Txt_Files/Basic Structure of the ...</td>\n",
       "      <td>[Pdf_Parsers_Txt_Files/Basic Structure of the ...</td>\n",
       "      <td>1.000000</td>\n",
       "      <td>1</td>\n",
       "      <td>1</td>\n",
       "    </tr>\n",
       "    <tr>\n",
       "      <th>9</th>\n",
       "      <td>How do the NGM app, WiFi Wizard, and Cloud Man...</td>\n",
       "      <td>[Pdf_Parsers_Txt_Files/Basic Structure of the ...</td>\n",
       "      <td>[Pdf_Parsers_Txt_Files/Basic Structure of the ...</td>\n",
       "      <td>1.000000</td>\n",
       "      <td>1</td>\n",
       "      <td>1</td>\n",
       "    </tr>\n",
       "    <tr>\n",
       "      <th>10</th>\n",
       "      <td>Explore the overall system architecture and in...</td>\n",
       "      <td>[Pdf_Parsers_Txt_Files/Basic Structure of the ...</td>\n",
       "      <td>[Pdf_Parsers_Txt_Files/Basic Structure of the ...</td>\n",
       "      <td>0.666667</td>\n",
       "      <td>1</td>\n",
       "      <td>1</td>\n",
       "    </tr>\n",
       "  </tbody>\n",
       "</table>\n",
       "</div>"
      ],
      "text/plain": [
       "                                             question  \\\n",
       "0   When will the lab heating was started early mo...   \n",
       "1   Explore the interactions between the NGM app, ...   \n",
       "2   How do the Cloud Manager, WiFi Wizard, and Dat...   \n",
       "3   Discuss the collaborative efforts of the Bring...   \n",
       "4   Explain how the Forecast Engine and Smart Flow...   \n",
       "5   Explore the interconnectedness of various comp...   \n",
       "6   How do the NGM app, Cloud Manager, and Alerts ...   \n",
       "7   Discuss the integration between the Database M...   \n",
       "8   Explain the collaborative efforts between the ...   \n",
       "9   How do the NGM app, WiFi Wizard, and Cloud Man...   \n",
       "10  Explore the overall system architecture and in...   \n",
       "\n",
       "                                               source  \\\n",
       "0   [Pdf_Parsers_Txt_Files/Thermal Test Report_par...   \n",
       "1   [Pdf_Parsers_Txt_Files/Basic Structure of the ...   \n",
       "2   [Pdf_Parsers_Txt_Files/Basic Structure of the ...   \n",
       "3   [Pdf_Parsers_Txt_Files/Basic Structure of the ...   \n",
       "4   [Pdf_Parsers_Txt_Files/Basic Structure of the ...   \n",
       "5   [Pdf_Parsers_Txt_Files/Basic Structure of the ...   \n",
       "6   [Pdf_Parsers_Txt_Files/Basic Structure of the ...   \n",
       "7   [Pdf_Parsers_Txt_Files/Basic Structure of the ...   \n",
       "8   [Pdf_Parsers_Txt_Files/Basic Structure of the ...   \n",
       "9   [Pdf_Parsers_Txt_Files/Basic Structure of the ...   \n",
       "10  [Pdf_Parsers_Txt_Files/Basic Structure of the ...   \n",
       "\n",
       "                                              outputs  precision_at_3/score  \\\n",
       "0   [Pdf_Parsers_Txt_Files/Thermal Test Report_par...              1.000000   \n",
       "1   [Pdf_Parsers_Txt_Files/Basic Structure of the ...              1.000000   \n",
       "2   [Pdf_Parsers_Txt_Files/Basic Structure of the ...              0.666667   \n",
       "3   [Pdf_Parsers_Txt_Files/Basic Structure of the ...              0.333333   \n",
       "4   [Pdf_Parsers_Txt_Files/Basic Structure of the ...              0.333333   \n",
       "5   [Pdf_Parsers_Txt_Files/Basic Structure of the ...              1.000000   \n",
       "6   [Pdf_Parsers_Txt_Files/Basic Structure of the ...              1.000000   \n",
       "7   [Pdf_Parsers_Txt_Files/Basic Structure of the ...              0.333333   \n",
       "8   [Pdf_Parsers_Txt_Files/Basic Structure of the ...              1.000000   \n",
       "9   [Pdf_Parsers_Txt_Files/Basic Structure of the ...              1.000000   \n",
       "10  [Pdf_Parsers_Txt_Files/Basic Structure of the ...              0.666667   \n",
       "\n",
       "    recall_at_3/score  ndcg_at_3/score  \n",
       "0                   1                1  \n",
       "1                   1                1  \n",
       "2                   1                1  \n",
       "3                   1                1  \n",
       "4                   1                1  \n",
       "5                   1                1  \n",
       "6                   1                1  \n",
       "7                   1                1  \n",
       "8                   1                1  \n",
       "9                   1                1  \n",
       "10                  1                1  "
      ]
     },
     "metadata": {},
     "output_type": "display_data"
    }
   ],
   "source": [
    "with mlflow.start_run(run_name=\"retriever part evaulation\") as run:\n",
    "    mlflow.set_experiment(\"SE_LLM_Evaluation\")\n",
    "    results = mlflow.evaluate(\n",
    "        model=retriever_model_function,\n",
    "        data=eval_data,\n",
    "        model_type=\"retriever\",\n",
    "        targets=\"source\",\n",
    "        evaluators=\"default\",\n",
    "    )\n",
    "    print(results.metrics)\n",
    "\n",
    "display(results.tables[\"eval_results_table\"])"
   ]
  },
  {
   "cell_type": "code",
   "execution_count": 17,
   "metadata": {},
   "outputs": [
    {
     "name": "stderr",
     "output_type": "stream",
     "text": [
      "Downloading artifacts: 100%|██████████| 1/1 [00:00<00:00, 1782.53it/s]\n"
     ]
    },
    {
     "data": {
      "text/plain": [
       "['Pdf_Parsers_Txt_Files/Thermal Test Report_parsed.txt',\n",
       " 'Pdf_Parsers_Txt_Files/Thermal Test Report_parsed.txt',\n",
       " 'Pdf_Parsers_Txt_Files/Thermal Test Report_parsed.txt',\n",
       " 'Pdf_Parsers_Txt_Files/ProductManual_ HVGoodWe_parsed.txt']"
      ]
     },
     "execution_count": 17,
     "metadata": {},
     "output_type": "execute_result"
    }
   ],
   "source": [
    "results.tables[\"eval_results_table\"][\"outputs\"][0]"
   ]
  },
  {
   "cell_type": "code",
   "execution_count": 18,
   "metadata": {},
   "outputs": [
    {
     "name": "stderr",
     "output_type": "stream",
     "text": [
      "/home/tanzeel/.local/lib/python3.10/site-packages/mlflow/data/digest_utils.py:26: FutureWarning: DataFrame.applymap has been deprecated. Use DataFrame.map instead.\n",
      "  string_columns = trimmed_df.columns[(df.applymap(type) == str).all(0)]\n",
      "/home/tanzeel/.local/lib/python3.10/site-packages/mlflow/models/evaluation/base.py:521: FutureWarning: DataFrame.applymap has been deprecated. Use DataFrame.map instead.\n",
      "  data = data.applymap(_hash_array_like_element_as_bytes)\n",
      "/home/tanzeel/.local/lib/python3.10/site-packages/mlflow/models/evaluation/base.py:521: FutureWarning: DataFrame.applymap has been deprecated. Use DataFrame.map instead.\n",
      "  data = data.applymap(_hash_array_like_element_as_bytes)\n",
      "2024/03/14 09:53:30 INFO mlflow.models.evaluation.base: Evaluating the model with the default evaluator.\n",
      "2024/03/14 09:53:30 INFO mlflow.models.evaluation.default_evaluator: Computing model predictions.\n"
     ]
    },
    {
     "name": "stderr",
     "output_type": "stream",
     "text": [
      "2024/03/14 09:53:30 INFO mlflow.models.evaluation.default_evaluator: Testing metrics on first row...\n",
      "Downloading artifacts: 100%|██████████| 1/1 [00:00<00:00, 1702.92it/s]\n"
     ]
    },
    {
     "data": {
      "text/html": [
       "<div>\n",
       "<style scoped>\n",
       "    .dataframe tbody tr th:only-of-type {\n",
       "        vertical-align: middle;\n",
       "    }\n",
       "\n",
       "    .dataframe tbody tr th {\n",
       "        vertical-align: top;\n",
       "    }\n",
       "\n",
       "    .dataframe thead th {\n",
       "        text-align: right;\n",
       "    }\n",
       "</style>\n",
       "<table border=\"1\" class=\"dataframe\">\n",
       "  <thead>\n",
       "    <tr style=\"text-align: right;\">\n",
       "      <th></th>\n",
       "      <th>question</th>\n",
       "      <th>source</th>\n",
       "      <th>outputs</th>\n",
       "      <th>precision_at_1/score</th>\n",
       "      <th>precision_at_2/score</th>\n",
       "      <th>precision_at_3/score</th>\n",
       "      <th>recall_at_1/score</th>\n",
       "      <th>recall_at_2/score</th>\n",
       "      <th>recall_at_3/score</th>\n",
       "      <th>ndcg_at_1/score</th>\n",
       "      <th>ndcg_at_2/score</th>\n",
       "      <th>ndcg_at_3/score</th>\n",
       "    </tr>\n",
       "  </thead>\n",
       "  <tbody>\n",
       "    <tr>\n",
       "      <th>0</th>\n",
       "      <td>When will the lab heating was started early mo...</td>\n",
       "      <td>[Pdf_Parsers_Txt_Files/Thermal Test Report_par...</td>\n",
       "      <td>[Pdf_Parsers_Txt_Files/Thermal Test Report_par...</td>\n",
       "      <td>1</td>\n",
       "      <td>1.0</td>\n",
       "      <td>1.000000</td>\n",
       "      <td>1</td>\n",
       "      <td>1</td>\n",
       "      <td>1</td>\n",
       "      <td>1</td>\n",
       "      <td>1</td>\n",
       "      <td>1</td>\n",
       "    </tr>\n",
       "    <tr>\n",
       "      <th>1</th>\n",
       "      <td>Explore the interactions between the NGM app, ...</td>\n",
       "      <td>[Pdf_Parsers_Txt_Files/Basic Structure of the ...</td>\n",
       "      <td>[Pdf_Parsers_Txt_Files/Basic Structure of the ...</td>\n",
       "      <td>1</td>\n",
       "      <td>1.0</td>\n",
       "      <td>1.000000</td>\n",
       "      <td>1</td>\n",
       "      <td>1</td>\n",
       "      <td>1</td>\n",
       "      <td>1</td>\n",
       "      <td>1</td>\n",
       "      <td>1</td>\n",
       "    </tr>\n",
       "    <tr>\n",
       "      <th>2</th>\n",
       "      <td>How do the Cloud Manager, WiFi Wizard, and Dat...</td>\n",
       "      <td>[Pdf_Parsers_Txt_Files/Basic Structure of the ...</td>\n",
       "      <td>[Pdf_Parsers_Txt_Files/Basic Structure of the ...</td>\n",
       "      <td>1</td>\n",
       "      <td>0.5</td>\n",
       "      <td>0.333333</td>\n",
       "      <td>1</td>\n",
       "      <td>1</td>\n",
       "      <td>1</td>\n",
       "      <td>1</td>\n",
       "      <td>1</td>\n",
       "      <td>1</td>\n",
       "    </tr>\n",
       "    <tr>\n",
       "      <th>3</th>\n",
       "      <td>Discuss the collaborative efforts of the Bring...</td>\n",
       "      <td>[Pdf_Parsers_Txt_Files/Basic Structure of the ...</td>\n",
       "      <td>[Pdf_Parsers_Txt_Files/Basic Structure of the ...</td>\n",
       "      <td>1</td>\n",
       "      <td>0.5</td>\n",
       "      <td>0.333333</td>\n",
       "      <td>1</td>\n",
       "      <td>1</td>\n",
       "      <td>1</td>\n",
       "      <td>1</td>\n",
       "      <td>1</td>\n",
       "      <td>1</td>\n",
       "    </tr>\n",
       "    <tr>\n",
       "      <th>4</th>\n",
       "      <td>Explain how the Forecast Engine and Smart Flow...</td>\n",
       "      <td>[Pdf_Parsers_Txt_Files/Basic Structure of the ...</td>\n",
       "      <td>[Pdf_Parsers_Txt_Files/Basic Structure of the ...</td>\n",
       "      <td>1</td>\n",
       "      <td>0.5</td>\n",
       "      <td>0.333333</td>\n",
       "      <td>1</td>\n",
       "      <td>1</td>\n",
       "      <td>1</td>\n",
       "      <td>1</td>\n",
       "      <td>1</td>\n",
       "      <td>1</td>\n",
       "    </tr>\n",
       "    <tr>\n",
       "      <th>5</th>\n",
       "      <td>Explore the interconnectedness of various comp...</td>\n",
       "      <td>[Pdf_Parsers_Txt_Files/Basic Structure of the ...</td>\n",
       "      <td>[Pdf_Parsers_Txt_Files/Basic Structure of the ...</td>\n",
       "      <td>1</td>\n",
       "      <td>1.0</td>\n",
       "      <td>1.000000</td>\n",
       "      <td>1</td>\n",
       "      <td>1</td>\n",
       "      <td>1</td>\n",
       "      <td>1</td>\n",
       "      <td>1</td>\n",
       "      <td>1</td>\n",
       "    </tr>\n",
       "    <tr>\n",
       "      <th>6</th>\n",
       "      <td>How do the NGM app, Cloud Manager, and Alerts ...</td>\n",
       "      <td>[Pdf_Parsers_Txt_Files/Basic Structure of the ...</td>\n",
       "      <td>[Pdf_Parsers_Txt_Files/Basic Structure of the ...</td>\n",
       "      <td>1</td>\n",
       "      <td>1.0</td>\n",
       "      <td>1.000000</td>\n",
       "      <td>1</td>\n",
       "      <td>1</td>\n",
       "      <td>1</td>\n",
       "      <td>1</td>\n",
       "      <td>1</td>\n",
       "      <td>1</td>\n",
       "    </tr>\n",
       "    <tr>\n",
       "      <th>7</th>\n",
       "      <td>Discuss the integration between the Database M...</td>\n",
       "      <td>[Pdf_Parsers_Txt_Files/Basic Structure of the ...</td>\n",
       "      <td>[Pdf_Parsers_Txt_Files/Basic Structure of the ...</td>\n",
       "      <td>1</td>\n",
       "      <td>0.5</td>\n",
       "      <td>0.333333</td>\n",
       "      <td>1</td>\n",
       "      <td>1</td>\n",
       "      <td>1</td>\n",
       "      <td>1</td>\n",
       "      <td>1</td>\n",
       "      <td>1</td>\n",
       "    </tr>\n",
       "    <tr>\n",
       "      <th>8</th>\n",
       "      <td>Explain the collaborative efforts between the ...</td>\n",
       "      <td>[Pdf_Parsers_Txt_Files/Basic Structure of the ...</td>\n",
       "      <td>[Pdf_Parsers_Txt_Files/Basic Structure of the ...</td>\n",
       "      <td>1</td>\n",
       "      <td>1.0</td>\n",
       "      <td>1.000000</td>\n",
       "      <td>1</td>\n",
       "      <td>1</td>\n",
       "      <td>1</td>\n",
       "      <td>1</td>\n",
       "      <td>1</td>\n",
       "      <td>1</td>\n",
       "    </tr>\n",
       "    <tr>\n",
       "      <th>9</th>\n",
       "      <td>How do the NGM app, WiFi Wizard, and Cloud Man...</td>\n",
       "      <td>[Pdf_Parsers_Txt_Files/Basic Structure of the ...</td>\n",
       "      <td>[Pdf_Parsers_Txt_Files/Basic Structure of the ...</td>\n",
       "      <td>1</td>\n",
       "      <td>1.0</td>\n",
       "      <td>1.000000</td>\n",
       "      <td>1</td>\n",
       "      <td>1</td>\n",
       "      <td>1</td>\n",
       "      <td>1</td>\n",
       "      <td>1</td>\n",
       "      <td>1</td>\n",
       "    </tr>\n",
       "    <tr>\n",
       "      <th>10</th>\n",
       "      <td>Explore the overall system architecture and in...</td>\n",
       "      <td>[Pdf_Parsers_Txt_Files/Basic Structure of the ...</td>\n",
       "      <td>[Pdf_Parsers_Txt_Files/Basic Structure of the ...</td>\n",
       "      <td>1</td>\n",
       "      <td>1.0</td>\n",
       "      <td>0.666667</td>\n",
       "      <td>1</td>\n",
       "      <td>1</td>\n",
       "      <td>1</td>\n",
       "      <td>1</td>\n",
       "      <td>1</td>\n",
       "      <td>1</td>\n",
       "    </tr>\n",
       "  </tbody>\n",
       "</table>\n",
       "</div>"
      ],
      "text/plain": [
       "                                             question  \\\n",
       "0   When will the lab heating was started early mo...   \n",
       "1   Explore the interactions between the NGM app, ...   \n",
       "2   How do the Cloud Manager, WiFi Wizard, and Dat...   \n",
       "3   Discuss the collaborative efforts of the Bring...   \n",
       "4   Explain how the Forecast Engine and Smart Flow...   \n",
       "5   Explore the interconnectedness of various comp...   \n",
       "6   How do the NGM app, Cloud Manager, and Alerts ...   \n",
       "7   Discuss the integration between the Database M...   \n",
       "8   Explain the collaborative efforts between the ...   \n",
       "9   How do the NGM app, WiFi Wizard, and Cloud Man...   \n",
       "10  Explore the overall system architecture and in...   \n",
       "\n",
       "                                               source  \\\n",
       "0   [Pdf_Parsers_Txt_Files/Thermal Test Report_par...   \n",
       "1   [Pdf_Parsers_Txt_Files/Basic Structure of the ...   \n",
       "2   [Pdf_Parsers_Txt_Files/Basic Structure of the ...   \n",
       "3   [Pdf_Parsers_Txt_Files/Basic Structure of the ...   \n",
       "4   [Pdf_Parsers_Txt_Files/Basic Structure of the ...   \n",
       "5   [Pdf_Parsers_Txt_Files/Basic Structure of the ...   \n",
       "6   [Pdf_Parsers_Txt_Files/Basic Structure of the ...   \n",
       "7   [Pdf_Parsers_Txt_Files/Basic Structure of the ...   \n",
       "8   [Pdf_Parsers_Txt_Files/Basic Structure of the ...   \n",
       "9   [Pdf_Parsers_Txt_Files/Basic Structure of the ...   \n",
       "10  [Pdf_Parsers_Txt_Files/Basic Structure of the ...   \n",
       "\n",
       "                                              outputs  precision_at_1/score  \\\n",
       "0   [Pdf_Parsers_Txt_Files/Thermal Test Report_par...                     1   \n",
       "1   [Pdf_Parsers_Txt_Files/Basic Structure of the ...                     1   \n",
       "2   [Pdf_Parsers_Txt_Files/Basic Structure of the ...                     1   \n",
       "3   [Pdf_Parsers_Txt_Files/Basic Structure of the ...                     1   \n",
       "4   [Pdf_Parsers_Txt_Files/Basic Structure of the ...                     1   \n",
       "5   [Pdf_Parsers_Txt_Files/Basic Structure of the ...                     1   \n",
       "6   [Pdf_Parsers_Txt_Files/Basic Structure of the ...                     1   \n",
       "7   [Pdf_Parsers_Txt_Files/Basic Structure of the ...                     1   \n",
       "8   [Pdf_Parsers_Txt_Files/Basic Structure of the ...                     1   \n",
       "9   [Pdf_Parsers_Txt_Files/Basic Structure of the ...                     1   \n",
       "10  [Pdf_Parsers_Txt_Files/Basic Structure of the ...                     1   \n",
       "\n",
       "    precision_at_2/score  precision_at_3/score  recall_at_1/score  \\\n",
       "0                    1.0              1.000000                  1   \n",
       "1                    1.0              1.000000                  1   \n",
       "2                    0.5              0.333333                  1   \n",
       "3                    0.5              0.333333                  1   \n",
       "4                    0.5              0.333333                  1   \n",
       "5                    1.0              1.000000                  1   \n",
       "6                    1.0              1.000000                  1   \n",
       "7                    0.5              0.333333                  1   \n",
       "8                    1.0              1.000000                  1   \n",
       "9                    1.0              1.000000                  1   \n",
       "10                   1.0              0.666667                  1   \n",
       "\n",
       "    recall_at_2/score  recall_at_3/score  ndcg_at_1/score  ndcg_at_2/score  \\\n",
       "0                   1                  1                1                1   \n",
       "1                   1                  1                1                1   \n",
       "2                   1                  1                1                1   \n",
       "3                   1                  1                1                1   \n",
       "4                   1                  1                1                1   \n",
       "5                   1                  1                1                1   \n",
       "6                   1                  1                1                1   \n",
       "7                   1                  1                1                1   \n",
       "8                   1                  1                1                1   \n",
       "9                   1                  1                1                1   \n",
       "10                  1                  1                1                1   \n",
       "\n",
       "    ndcg_at_3/score  \n",
       "0                 1  \n",
       "1                 1  \n",
       "2                 1  \n",
       "3                 1  \n",
       "4                 1  \n",
       "5                 1  \n",
       "6                 1  \n",
       "7                 1  \n",
       "8                 1  \n",
       "9                 1  \n",
       "10                1  "
      ]
     },
     "metadata": {},
     "output_type": "display_data"
    }
   ],
   "source": [
    "with mlflow.start_run(run_name=\"retriever part evaulation with different values\") as run:\n",
    "    evaluate_results = mlflow.evaluate(\n",
    "        model=retriever_model_function,\n",
    "        data=eval_data,\n",
    "        targets=\"source\",\n",
    "        evaluators=\"default\",\n",
    "        extra_metrics=[\n",
    "            mlflow.metrics.precision_at_k(1),\n",
    "            mlflow.metrics.precision_at_k(2),\n",
    "            mlflow.metrics.precision_at_k(3),\n",
    "            mlflow.metrics.recall_at_k(1),\n",
    "            mlflow.metrics.recall_at_k(2),\n",
    "            mlflow.metrics.recall_at_k(3),\n",
    "            mlflow.metrics.ndcg_at_k(1),\n",
    "            mlflow.metrics.ndcg_at_k(2),\n",
    "            mlflow.metrics.ndcg_at_k(3),\n",
    "        ],\n",
    "    )\n",
    "\n",
    "display(evaluate_results.tables[\"eval_results_table\"])"
   ]
  },
  {
   "cell_type": "code",
   "execution_count": 19,
   "metadata": {},
   "outputs": [
    {
     "name": "stdout",
     "output_type": "stream",
     "text": [
      "{   'ndcg_at_1/mean': 1.0,\n",
      "    'ndcg_at_1/p90': 1.0,\n",
      "    'ndcg_at_1/variance': 0.0,\n",
      "    'ndcg_at_2/mean': 1.0,\n",
      "    'ndcg_at_2/p90': 1.0,\n",
      "    'ndcg_at_2/variance': 0.0,\n",
      "    'ndcg_at_3/mean': 1.0,\n",
      "    'ndcg_at_3/p90': 1.0,\n",
      "    'ndcg_at_3/variance': 0.0,\n",
      "    'precision_at_1/mean': 1.0,\n",
      "    'precision_at_1/p90': 1.0,\n",
      "    'precision_at_1/variance': 0.0,\n",
      "    'precision_at_2/mean': 0.8181818181818182,\n",
      "    'precision_at_2/p90': 1.0,\n",
      "    'precision_at_2/variance': 0.057851239669421496,\n",
      "    'precision_at_3/mean': 0.7272727272727273,\n",
      "    'precision_at_3/p90': 1.0,\n",
      "    'precision_at_3/variance': 0.09733700642791553,\n",
      "    'recall_at_1/mean': 1.0,\n",
      "    'recall_at_1/p90': 1.0,\n",
      "    'recall_at_1/variance': 0.0,\n",
      "    'recall_at_2/mean': 1.0,\n",
      "    'recall_at_2/p90': 1.0,\n",
      "    'recall_at_2/variance': 0.0,\n",
      "    'recall_at_3/mean': 1.0,\n",
      "    'recall_at_3/p90': 1.0,\n",
      "    'recall_at_3/variance': 0.0}\n"
     ]
    }
   ],
   "source": [
    "import pprint\n",
    "\n",
    "pp = pprint.PrettyPrinter(indent=4)\n",
    "pp.pprint(evaluate_results.metrics)"
   ]
  },
  {
   "cell_type": "code",
   "execution_count": 63,
   "metadata": {},
   "outputs": [
    {
     "data": {
      "image/png": "[encoded data removed]",
      "text/plain": [
       "<Figure size 640x480 with 1 Axes>"
      ]
     },
     "metadata": {},
     "output_type": "display_data"
    }
   ],
   "source": [
    "import matplotlib.pyplot as plt\n",
    "import mlflow\n",
    "\n",
    "# Plotting each metric\n",
    "for metric_name in [\"precision\", \"recall\", \"ndcg\"]:\n",
    "    y = [evaluate_results.metrics[f\"{metric_name}_at_{k}/mean\"] for k in range(1, 4)]\n",
    "    plt.plot([1, 2, 3], y, label=f\"{metric_name}@k\")\n",
    "\n",
    "# Adding labels and title\n",
    "plt.xlabel(\"k\")\n",
    "plt.ylabel(\"Metric Value\")\n",
    "plt.title(\"Metrics Comparison at Different Ks\")\n",
    "# Setting x-axis ticks\n",
    "plt.xticks([1, 2, 3])\n",
    "plt.legend()\n",
    "\n",
    "# Save the plot as an image file\n",
    "plot_path = \"mlruns/artifacts/metrics_plot.png\"\n",
    "plt.savefig(plot_path)\n",
    "\n",
    "# Log the plot as an artifact in MLflow\n",
    "with mlflow.start_run(run_name=\"metrics plot\") as run:\n",
    "    mlflow.log_artifact(plot_path, artifact_path=\"mlruns/artifacts/metrics_plot.png\")\n"
   ]
  },
  {
   "cell_type": "markdown",
   "metadata": {},
   "source": [
    "### Try different k values\n",
    "#### To use another k value, use the evaluator_config parameter in the mlflow.evaluate() API as follows: evaluator_config={\"retriever_k\": <k_value>}."
   ]
  },
  {
   "cell_type": "code",
   "execution_count": 21,
   "metadata": {},
   "outputs": [
    {
     "name": "stderr",
     "output_type": "stream",
     "text": [
      "/home/tanzeel/.local/lib/python3.10/site-packages/mlflow/data/digest_utils.py:26: FutureWarning: DataFrame.applymap has been deprecated. Use DataFrame.map instead.\n",
      "  string_columns = trimmed_df.columns[(df.applymap(type) == str).all(0)]\n",
      "/home/tanzeel/.local/lib/python3.10/site-packages/mlflow/models/evaluation/base.py:521: FutureWarning: DataFrame.applymap has been deprecated. Use DataFrame.map instead.\n",
      "  data = data.applymap(_hash_array_like_element_as_bytes)\n",
      "/home/tanzeel/.local/lib/python3.10/site-packages/mlflow/models/evaluation/base.py:521: FutureWarning: DataFrame.applymap has been deprecated. Use DataFrame.map instead.\n",
      "  data = data.applymap(_hash_array_like_element_as_bytes)\n",
      "2024/03/14 09:53:49 INFO mlflow.models.evaluation.base: Evaluating the model with the default evaluator.\n",
      "2024/03/14 09:53:49 INFO mlflow.models.evaluation.default_evaluator: Computing model predictions.\n"
     ]
    },
    {
     "name": "stderr",
     "output_type": "stream",
     "text": [
      "2024/03/14 09:53:49 INFO mlflow.models.evaluation.default_evaluator: Testing metrics on first row...\n"
     ]
    },
    {
     "name": "stdout",
     "output_type": "stream",
     "text": [
      "{'precision_at_6/mean': 0.6590909090909091, 'precision_at_6/variance': 0.08264462809917356, 'precision_at_6/p90': 1.0, 'recall_at_6/mean': 1.0, 'recall_at_6/variance': 0.0, 'recall_at_6/p90': 1.0, 'ndcg_at_6/mean': 0.9747180558332063, 'ndcg_at_6/variance': 0.0021981405421771473, 'ndcg_at_6/p90': 1.0}\n"
     ]
    },
    {
     "name": "stderr",
     "output_type": "stream",
     "text": [
      "Downloading artifacts: 100%|██████████| 1/1 [00:00<00:00, 2149.82it/s]\n"
     ]
    },
    {
     "data": {
      "text/html": [
       "<div>\n",
       "<style scoped>\n",
       "    .dataframe tbody tr th:only-of-type {\n",
       "        vertical-align: middle;\n",
       "    }\n",
       "\n",
       "    .dataframe tbody tr th {\n",
       "        vertical-align: top;\n",
       "    }\n",
       "\n",
       "    .dataframe thead th {\n",
       "        text-align: right;\n",
       "    }\n",
       "</style>\n",
       "<table border=\"1\" class=\"dataframe\">\n",
       "  <thead>\n",
       "    <tr style=\"text-align: right;\">\n",
       "      <th></th>\n",
       "      <th>question</th>\n",
       "      <th>source</th>\n",
       "      <th>outputs</th>\n",
       "      <th>precision_at_6/score</th>\n",
       "      <th>recall_at_6/score</th>\n",
       "      <th>ndcg_at_6/score</th>\n",
       "    </tr>\n",
       "  </thead>\n",
       "  <tbody>\n",
       "    <tr>\n",
       "      <th>0</th>\n",
       "      <td>When will the lab heating was started early mo...</td>\n",
       "      <td>[Pdf_Parsers_Txt_Files/Thermal Test Report_par...</td>\n",
       "      <td>[Pdf_Parsers_Txt_Files/Thermal Test Report_par...</td>\n",
       "      <td>0.75</td>\n",
       "      <td>1</td>\n",
       "      <td>1.000000</td>\n",
       "    </tr>\n",
       "    <tr>\n",
       "      <th>1</th>\n",
       "      <td>Explore the interactions between the NGM app, ...</td>\n",
       "      <td>[Pdf_Parsers_Txt_Files/Basic Structure of the ...</td>\n",
       "      <td>[Pdf_Parsers_Txt_Files/Basic Structure of the ...</td>\n",
       "      <td>0.75</td>\n",
       "      <td>1</td>\n",
       "      <td>1.000000</td>\n",
       "    </tr>\n",
       "    <tr>\n",
       "      <th>2</th>\n",
       "      <td>How do the Cloud Manager, WiFi Wizard, and Dat...</td>\n",
       "      <td>[Pdf_Parsers_Txt_Files/Basic Structure of the ...</td>\n",
       "      <td>[Pdf_Parsers_Txt_Files/Basic Structure of the ...</td>\n",
       "      <td>0.25</td>\n",
       "      <td>1</td>\n",
       "      <td>1.000000</td>\n",
       "    </tr>\n",
       "    <tr>\n",
       "      <th>3</th>\n",
       "      <td>Discuss the collaborative efforts of the Bring...</td>\n",
       "      <td>[Pdf_Parsers_Txt_Files/Basic Structure of the ...</td>\n",
       "      <td>[Pdf_Parsers_Txt_Files/Basic Structure of the ...</td>\n",
       "      <td>0.50</td>\n",
       "      <td>1</td>\n",
       "      <td>0.877215</td>\n",
       "    </tr>\n",
       "    <tr>\n",
       "      <th>4</th>\n",
       "      <td>Explain how the Forecast Engine and Smart Flow...</td>\n",
       "      <td>[Pdf_Parsers_Txt_Files/Basic Structure of the ...</td>\n",
       "      <td>[Pdf_Parsers_Txt_Files/Basic Structure of the ...</td>\n",
       "      <td>0.25</td>\n",
       "      <td>1</td>\n",
       "      <td>1.000000</td>\n",
       "    </tr>\n",
       "    <tr>\n",
       "      <th>5</th>\n",
       "      <td>Explore the interconnectedness of various comp...</td>\n",
       "      <td>[Pdf_Parsers_Txt_Files/Basic Structure of the ...</td>\n",
       "      <td>[Pdf_Parsers_Txt_Files/Basic Structure of the ...</td>\n",
       "      <td>1.00</td>\n",
       "      <td>1</td>\n",
       "      <td>1.000000</td>\n",
       "    </tr>\n",
       "    <tr>\n",
       "      <th>6</th>\n",
       "      <td>How do the NGM app, Cloud Manager, and Alerts ...</td>\n",
       "      <td>[Pdf_Parsers_Txt_Files/Basic Structure of the ...</td>\n",
       "      <td>[Pdf_Parsers_Txt_Files/Basic Structure of the ...</td>\n",
       "      <td>1.00</td>\n",
       "      <td>1</td>\n",
       "      <td>1.000000</td>\n",
       "    </tr>\n",
       "    <tr>\n",
       "      <th>7</th>\n",
       "      <td>Discuss the integration between the Database M...</td>\n",
       "      <td>[Pdf_Parsers_Txt_Files/Basic Structure of the ...</td>\n",
       "      <td>[Pdf_Parsers_Txt_Files/Basic Structure of the ...</td>\n",
       "      <td>0.25</td>\n",
       "      <td>1</td>\n",
       "      <td>0.877215</td>\n",
       "    </tr>\n",
       "    <tr>\n",
       "      <th>8</th>\n",
       "      <td>Explain the collaborative efforts between the ...</td>\n",
       "      <td>[Pdf_Parsers_Txt_Files/Basic Structure of the ...</td>\n",
       "      <td>[Pdf_Parsers_Txt_Files/Basic Structure of the ...</td>\n",
       "      <td>1.00</td>\n",
       "      <td>1</td>\n",
       "      <td>1.000000</td>\n",
       "    </tr>\n",
       "    <tr>\n",
       "      <th>9</th>\n",
       "      <td>How do the NGM app, WiFi Wizard, and Cloud Man...</td>\n",
       "      <td>[Pdf_Parsers_Txt_Files/Basic Structure of the ...</td>\n",
       "      <td>[Pdf_Parsers_Txt_Files/Basic Structure of the ...</td>\n",
       "      <td>0.75</td>\n",
       "      <td>1</td>\n",
       "      <td>1.000000</td>\n",
       "    </tr>\n",
       "    <tr>\n",
       "      <th>10</th>\n",
       "      <td>Explore the overall system architecture and in...</td>\n",
       "      <td>[Pdf_Parsers_Txt_Files/Basic Structure of the ...</td>\n",
       "      <td>[Pdf_Parsers_Txt_Files/Basic Structure of the ...</td>\n",
       "      <td>0.75</td>\n",
       "      <td>1</td>\n",
       "      <td>0.967468</td>\n",
       "    </tr>\n",
       "  </tbody>\n",
       "</table>\n",
       "</div>"
      ],
      "text/plain": [
       "                                             question  \\\n",
       "0   When will the lab heating was started early mo...   \n",
       "1   Explore the interactions between the NGM app, ...   \n",
       "2   How do the Cloud Manager, WiFi Wizard, and Dat...   \n",
       "3   Discuss the collaborative efforts of the Bring...   \n",
       "4   Explain how the Forecast Engine and Smart Flow...   \n",
       "5   Explore the interconnectedness of various comp...   \n",
       "6   How do the NGM app, Cloud Manager, and Alerts ...   \n",
       "7   Discuss the integration between the Database M...   \n",
       "8   Explain the collaborative efforts between the ...   \n",
       "9   How do the NGM app, WiFi Wizard, and Cloud Man...   \n",
       "10  Explore the overall system architecture and in...   \n",
       "\n",
       "                                               source  \\\n",
       "0   [Pdf_Parsers_Txt_Files/Thermal Test Report_par...   \n",
       "1   [Pdf_Parsers_Txt_Files/Basic Structure of the ...   \n",
       "2   [Pdf_Parsers_Txt_Files/Basic Structure of the ...   \n",
       "3   [Pdf_Parsers_Txt_Files/Basic Structure of the ...   \n",
       "4   [Pdf_Parsers_Txt_Files/Basic Structure of the ...   \n",
       "5   [Pdf_Parsers_Txt_Files/Basic Structure of the ...   \n",
       "6   [Pdf_Parsers_Txt_Files/Basic Structure of the ...   \n",
       "7   [Pdf_Parsers_Txt_Files/Basic Structure of the ...   \n",
       "8   [Pdf_Parsers_Txt_Files/Basic Structure of the ...   \n",
       "9   [Pdf_Parsers_Txt_Files/Basic Structure of the ...   \n",
       "10  [Pdf_Parsers_Txt_Files/Basic Structure of the ...   \n",
       "\n",
       "                                              outputs  precision_at_6/score  \\\n",
       "0   [Pdf_Parsers_Txt_Files/Thermal Test Report_par...                  0.75   \n",
       "1   [Pdf_Parsers_Txt_Files/Basic Structure of the ...                  0.75   \n",
       "2   [Pdf_Parsers_Txt_Files/Basic Structure of the ...                  0.25   \n",
       "3   [Pdf_Parsers_Txt_Files/Basic Structure of the ...                  0.50   \n",
       "4   [Pdf_Parsers_Txt_Files/Basic Structure of the ...                  0.25   \n",
       "5   [Pdf_Parsers_Txt_Files/Basic Structure of the ...                  1.00   \n",
       "6   [Pdf_Parsers_Txt_Files/Basic Structure of the ...                  1.00   \n",
       "7   [Pdf_Parsers_Txt_Files/Basic Structure of the ...                  0.25   \n",
       "8   [Pdf_Parsers_Txt_Files/Basic Structure of the ...                  1.00   \n",
       "9   [Pdf_Parsers_Txt_Files/Basic Structure of the ...                  0.75   \n",
       "10  [Pdf_Parsers_Txt_Files/Basic Structure of the ...                  0.75   \n",
       "\n",
       "    recall_at_6/score  ndcg_at_6/score  \n",
       "0                   1         1.000000  \n",
       "1                   1         1.000000  \n",
       "2                   1         1.000000  \n",
       "3                   1         0.877215  \n",
       "4                   1         1.000000  \n",
       "5                   1         1.000000  \n",
       "6                   1         1.000000  \n",
       "7                   1         0.877215  \n",
       "8                   1         1.000000  \n",
       "9                   1         1.000000  \n",
       "10                  1         0.967468  "
      ]
     },
     "metadata": {},
     "output_type": "display_data"
    }
   ],
   "source": [
    "\n",
    "with mlflow.start_run(run_name=\" differentr etriever K value\") as run:\n",
    "    results = mlflow.evaluate(\n",
    "        model=retriever_model_function,\n",
    "        data=eval_data,\n",
    "        model_type=\"retriever\",\n",
    "        targets=\"source\",\n",
    "        evaluators=\"default\",\n",
    "        evaluator_config={\"retriever_k\": 6}\n",
    "    )\n",
    "    print(results.metrics)\n",
    "\n",
    "display(results.tables[\"eval_results_table\"])"
   ]
  },
  {
   "cell_type": "code",
   "execution_count": 22,
   "metadata": {},
   "outputs": [
    {
     "data": {
      "text/plain": [
       "{'precision_at_1/mean': 1.0,\n",
       " 'precision_at_1/variance': 0.0,\n",
       " 'precision_at_1/p90': 1.0,\n",
       " 'precision_at_2/mean': 0.8181818181818182,\n",
       " 'precision_at_2/variance': 0.057851239669421496,\n",
       " 'precision_at_2/p90': 1.0,\n",
       " 'precision_at_3/mean': 0.7272727272727273,\n",
       " 'precision_at_3/variance': 0.09733700642791553,\n",
       " 'precision_at_3/p90': 1.0,\n",
       " 'recall_at_1/mean': 1.0,\n",
       " 'recall_at_1/variance': 0.0,\n",
       " 'recall_at_1/p90': 1.0,\n",
       " 'recall_at_2/mean': 1.0,\n",
       " 'recall_at_2/variance': 0.0,\n",
       " 'recall_at_2/p90': 1.0,\n",
       " 'recall_at_3/mean': 1.0,\n",
       " 'recall_at_3/variance': 0.0,\n",
       " 'recall_at_3/p90': 1.0,\n",
       " 'ndcg_at_1/mean': 1.0,\n",
       " 'ndcg_at_1/variance': 0.0,\n",
       " 'ndcg_at_1/p90': 1.0,\n",
       " 'ndcg_at_2/mean': 1.0,\n",
       " 'ndcg_at_2/variance': 0.0,\n",
       " 'ndcg_at_2/p90': 1.0,\n",
       " 'ndcg_at_3/mean': 1.0,\n",
       " 'ndcg_at_3/variance': 0.0,\n",
       " 'ndcg_at_3/p90': 1.0}"
      ]
     },
     "execution_count": 22,
     "metadata": {},
     "output_type": "execute_result"
    }
   ],
   "source": [
    "evaluate_results.metrics"
   ]
  },
  {
   "cell_type": "markdown",
   "metadata": {},
   "source": [
    "# Evaluation Using LLM"
   ]
  },
  {
   "cell_type": "code",
   "execution_count": 14,
   "metadata": {},
   "outputs": [],
   "source": [
    "# Load model directly\n",
    "from transformers import AutoTokenizer, AutoModelForCausalLM\n",
    "\n",
    "tokenizer = AutoTokenizer.from_pretrained(\"microsoft/phi-1_5\", trust_remote_code=True)\n",
    "model = AutoModelForCausalLM.from_pretrained(\"microsoft/phi-1_5\", trust_remote_code=True)"
   ]
  },
  {
   "cell_type": "code",
   "execution_count": 15,
   "metadata": {},
   "outputs": [],
   "source": [
    "from transformers import pipeline\n",
    "from langchain.llms import HuggingFacePipeline\n",
    "\n",
    "pipe = pipeline(\n",
    "    model=model,\n",
    "    tokenizer=tokenizer,\n",
    "    task=\"text-generation\",\n",
    "    max_length=1024,\n",
    ")\n",
    "\n",
    "phi_llm = HuggingFacePipeline(pipeline=pipe)"
   ]
  },
  {
   "cell_type": "code",
   "execution_count": 17,
   "metadata": {},
   "outputs": [
    {
     "name": "stderr",
     "output_type": "stream",
     "text": [
      "WARNING:root:Malformed experiment 'artifacts'. Detailed error Yaml file '/home/tanzeel/Documents/Experiment notebooks/mlruns/artifacts/meta.yaml' does not exist.\n",
      "Traceback (most recent call last):\n",
      "  File \"/home/tanzeel/.local/lib/python3.10/site-packages/mlflow/store/tracking/file_store.py\", line 302, in search_experiments\n",
      "    exp = self._get_experiment(exp_id, view_type)\n",
      "  File \"/home/tanzeel/.local/lib/python3.10/site-packages/mlflow/store/tracking/file_store.py\", line 395, in _get_experiment\n",
      "    meta = FileStore._read_yaml(experiment_dir, FileStore.META_DATA_FILE_NAME)\n",
      "  File \"/home/tanzeel/.local/lib/python3.10/site-packages/mlflow/store/tracking/file_store.py\", line 1320, in _read_yaml\n",
      "    return _read_helper(root, file_name, attempts_remaining=retries)\n",
      "  File \"/home/tanzeel/.local/lib/python3.10/site-packages/mlflow/store/tracking/file_store.py\", line 1313, in _read_helper\n",
      "    result = read_yaml(root, file_name)\n",
      "  File \"/home/tanzeel/.local/lib/python3.10/site-packages/mlflow/utils/file_utils.py\", line 310, in read_yaml\n",
      "    raise MissingConfigException(f\"Yaml file '{file_path}' does not exist.\")\n",
      "mlflow.exceptions.MissingConfigException: Yaml file '/home/tanzeel/Documents/Experiment notebooks/mlruns/artifacts/meta.yaml' does not exist.\n"
     ]
    }
   ],
   "source": [
    "with mlflow.start_run(run_name='Phi-1.5 model') as run:\n",
    "    mlflow.set_experiment(\"SE_LLM_Evaluation\")\n",
    "    components = {\n",
    "        \"tokenizer\": tokenizer,\n",
    "        \"model\": model,\n",
    "    }\n",
    "    mlflow.transformers.log_model(\n",
    "        transformers_model=components,\n",
    "        artifact_path=\"Phi-1.5 Model\",\n",
    "    )"
   ]
  },
  {
   "cell_type": "code",
   "execution_count": 18,
   "metadata": {},
   "outputs": [
    {
     "name": "stderr",
     "output_type": "stream",
     "text": [
      "Loading checkpoint shards: 100%|██████████| 12/12 [00:02<00:00,  5.12it/s]\n",
      "Special tokens have been added in the vocabulary, make sure the associated word embeddings are fine-tuned or trained.\n"
     ]
    }
   ],
   "source": [
    "model_end_point = f\"runs:/{run.info.run_id}/Phi-1.5 Model\"\n",
    "phi_model = mlflow.pyfunc.load_model(model_end_point)"
   ]
  },
  {
   "cell_type": "code",
   "execution_count": 19,
   "metadata": {},
   "outputs": [
    {
     "name": "stderr",
     "output_type": "stream",
     "text": [
      "/home/tanzeel/.local/lib/python3.10/site-packages/transformers/generation/utils.py:1133: UserWarning: Using the model-agnostic default `max_length` (=20) to control the generation length. We recommend setting `max_new_tokens` to control the maximum length of the generation.\n",
      "  warnings.warn(\n"
     ]
    },
    {
     "data": {
      "text/plain": [
       "['hello\", \"world\"]\\n    \"\"\"\\n    def is_palindrome(s: str']"
      ]
     },
     "execution_count": 19,
     "metadata": {},
     "output_type": "execute_result"
    }
   ],
   "source": [
    "phi_model.predict(\"hello\")"
   ]
  },
  {
   "cell_type": "markdown",
   "metadata": {},
   "source": [
    "## Relevance Metric:\n",
    "* What It Measures: The relevance_metric quantifies how relevant the RAG system’s answers are to the input questions. This metric is critical for understanding the accuracy and contextual appropriateness of the system’s responses.\n",
    "\n",
    "* Why It’s Important: In question-answering systems, relevance is paramount. The ability of a RAG system to provide accurate and contextually correct answers determines its utility and effectiveness in real-world applications, such as information retrieval and customer support.\n",
    "\n",
    "* We utilize the relevance_metric to evaluate the quality of answers provided by the RAG system. It serves as a quantitative measure of the system’s content accuracy, reflecting its capability to generate useful and precise responses.\n",
    "\n"
   ]
  },
  {
   "cell_type": "code",
   "execution_count": 30,
   "metadata": {},
   "outputs": [
    {
     "name": "stdout",
     "output_type": "stream",
     "text": [
      "EvaluationMetric(name=relevance, greater_is_better=True, long_name=relevance, version=v1, metric_details=\n",
      "Task:\n",
      "You must return the following fields in your response in two lines, one below the other:\n",
      "score: Your numerical score for the model's relevance based on the rubric\n",
      "justification: Your reasoning about the model's relevance score\n",
      "\n",
      "You are an impartial judge. You will be given an input that was sent to a machine\n",
      "learning model, and you will be given an output that the model produced. You\n",
      "may also be given additional information that was used by the model to generate the output.\n",
      "\n",
      "Your task is to determine a numerical score called relevance based on the input and output.\n",
      "A definition of relevance and a grading rubric are provided below.\n",
      "You must use the grading rubric to determine your score. You must also justify your score.\n",
      "\n",
      "Examples could be included below for reference. Make sure to use them as references and to\n",
      "understand them before completing the task.\n",
      "\n",
      "Input:\n",
      "{input}\n",
      "\n",
      "Output:\n",
      "{output}\n",
      "\n",
      "{grading_context_columns}\n",
      "\n",
      "Metric definition:\n",
      "Relevance encompasses the appropriateness, significance, and applicability of the output with respect to both the input and context. Scores should reflect the extent to which the output directly addresses the question provided in the input, given the provided context.\n",
      "\n",
      "Grading rubric:\n",
      "Relevance: Below are the details for different scores:- Score 1: The output doesn't mention anything about the question or is completely irrelevant to the provided context.\n",
      "- Score 2: The output provides some relevance to the question and is somehow related to the provided context.\n",
      "- Score 3: The output mostly answers the question and is largely consistent with the provided context.\n",
      "- Score 4: The output answers the question and is consistent with the provided context.\n",
      "- Score 5: The output answers the question comprehensively using the provided context.\n",
      "\n",
      "Examples:\n",
      "\n",
      "Example Input:\n",
      "How is MLflow related to Databricks?\n",
      "\n",
      "Example Output:\n",
      "Databricks is a data engineering and analytics platform designed to help organizations process and analyze large amounts of data. Databricks is a company specializing in big data and machine learning solutions.\n",
      "\n",
      "Additional information used by the model:\n",
      "key: context\n",
      "value:\n",
      "MLflow is an open-source platform for managing the end-to-end machine learning (ML) lifecycle. It was developed by Databricks, a company that specializes in big data and machine learning solutions. MLflow is designed to address the challenges that data scientists and machine learning engineers face when developing, training, and deploying machine learning models.\n",
      "\n",
      "Example score: 2\n",
      "Example justification: The output provides relevant information about Databricks, mentioning it as a company specializing in big data and machine learning solutions. However, it doesn't directly address how MLflow is related to Databricks, which is the specific question asked in the input. Therefore, the output is only somewhat related to the provided context.\n",
      "        \n",
      "\n",
      "Example Input:\n",
      "How is MLflow related to Databricks?\n",
      "\n",
      "Example Output:\n",
      "MLflow is a product created by Databricks to enhance the efficiency of machine learning processes.\n",
      "\n",
      "Additional information used by the model:\n",
      "key: context\n",
      "value:\n",
      "MLflow is an open-source platform for managing the end-to-end machine learning (ML) lifecycle. It was developed by Databricks, a company that specializes in big data and machine learning solutions. MLflow is designed to address the challenges that data scientists and machine learning engineers face when developing, training, and deploying machine learning models.\n",
      "\n",
      "Example score: 4\n",
      "Example justification: The output provides a relevant and accurate statement about the relationship between MLflow and Databricks. While it doesn't provide extensive detail, it still offers a substantial and meaningful response. To achieve a score of 5, the response could be further improved by providing additional context or details about how MLflow specifically functions within the Databricks ecosystem.\n",
      "        \n",
      "\n",
      "You must return the following fields in your response in two lines, one below the other:\n",
      "score: Your numerical score for the model's relevance based on the rubric\n",
      "justification: Your reasoning about the model's relevance score\n",
      "\n",
      "Do not add additional new lines. Do not add any other fields.\n",
      "    )\n"
     ]
    }
   ],
   "source": [
    "relevance_metric = relevance(\n",
    "    model=model_end_point\n",
    ") \n",
    "print(relevance_metric) "
   ]
  },
  {
   "cell_type": "code",
   "execution_count": 21,
   "metadata": {},
   "outputs": [],
   "source": [
    "from langchain.chains import RetrievalQA\n",
    "\n",
    "qa = RetrievalQA.from_chain_type(\n",
    "    llm=gpt2_llm,\n",
    "    chain_type=\"stuff\",\n",
    "    retriever=vectordb.as_retriever(fetch_k=4),\n",
    "    return_source_documents=True,\n",
    ")\n"
   ]
  },
  {
   "cell_type": "code",
   "execution_count": 22,
   "metadata": {},
   "outputs": [],
   "source": [
    "def model(input_df):\n",
    "    return input_df[\"questions\"].map(qa).tolist()"
   ]
  },
  {
   "cell_type": "markdown",
   "metadata": {},
   "source": [
    "## Latency:\n",
    "* What It Measures: The latency metric captures the response time of the RAG system. It measures the duration taken by the system to generate an answer after receiving a query.\n",
    "\n",
    "* Why It’s Important: Response time is a critical factor in user experience. In interactive systems, lower latency leads to a more efficient and satisfying user experience. High latency, conversely, can be detrimental to user satisfaction.\n",
    "\n",
    "* This evaluation is vital for understanding the system’s performance in a production environment, where timely responses are as important as their accuracy."
   ]
  },
  {
   "cell_type": "code",
   "execution_count": 23,
   "metadata": {},
   "outputs": [
    {
     "name": "stderr",
     "output_type": "stream",
     "text": [
      "/home/tanzeel/.local/lib/python3.10/site-packages/mlflow/data/digest_utils.py:26: FutureWarning: DataFrame.applymap has been deprecated. Use DataFrame.map instead.\n",
      "  string_columns = trimmed_df.columns[(df.applymap(type) == str).all(0)]\n",
      "/home/tanzeel/.local/lib/python3.10/site-packages/mlflow/models/evaluation/base.py:521: FutureWarning: DataFrame.applymap has been deprecated. Use DataFrame.map instead.\n",
      "  data = data.applymap(_hash_array_like_element_as_bytes)\n",
      "2024/03/14 16:16:57 INFO mlflow.models.evaluation.base: Evaluating the model with the default evaluator.\n",
      "2024/03/14 16:16:57 INFO mlflow.models.evaluation.default_evaluator: Computing model predictions.\n"
     ]
    },
    {
     "name": "stderr",
     "output_type": "stream",
     "text": [
      "Setting `pad_token_id` to `eos_token_id`:50256 for open-end generation.\n",
      "Setting `pad_token_id` to `eos_token_id`:50256 for open-end generation.\n",
      "Setting `pad_token_id` to `eos_token_id`:50256 for open-end generation.\n",
      "2024/03/14 16:17:20 INFO mlflow.models.evaluation.default_evaluator: Testing metrics on first row...\n",
      "WARNING:evaluate_modules.metrics.evaluate-measurement--toxicity.2390290fa0bf6d78480143547c6b08f3d4f8805b249df8c7a8e80d0ce8e3778b.toxicity:Using default facebook/roberta-hate-speech-dynabench-r4-target checkpoint\n",
      "2024/03/14 16:21:44 WARNING mlflow.metrics.metric_definitions: Failed to load flesch kincaid metric, skipping metric logging.\n",
      "2024/03/14 16:21:44 WARNING mlflow.models.evaluation.default_evaluator: Did not log builtin metric 'flesch_kincaid_grade_level' because it returned None.\n",
      "2024/03/14 16:21:44 WARNING mlflow.metrics.metric_definitions: Failed to load automated readability index metric, skipping metric logging.\n",
      "2024/03/14 16:21:44 WARNING mlflow.models.evaluation.default_evaluator: Did not log builtin metric 'ari_grade_level' because it returned None.\n",
      "2024/03/14 16:21:44 WARNING mlflow.models.evaluation.default_evaluator: Did not log builtin metric 'exact_match' because it returned None.\n",
      "100%|██████████| 1/1 [00:00<00:00, 9642.08it/s]\n",
      "/home/tanzeel/.local/lib/python3.10/site-packages/numpy/core/fromnumeric.py:3504: RuntimeWarning: Mean of empty slice.\n",
      "  return _methods._mean(a, axis=axis, dtype=dtype,\n",
      "/home/tanzeel/.local/lib/python3.10/site-packages/numpy/core/_methods.py:129: RuntimeWarning: invalid value encountered in scalar divide\n",
      "  ret = ret.dtype.type(ret / rcount)\n",
      "/home/tanzeel/.local/lib/python3.10/site-packages/numpy/core/fromnumeric.py:3787: RuntimeWarning: Degrees of freedom <= 0 for slice\n",
      "  return _methods._var(a, axis=axis, dtype=dtype, out=out, ddof=ddof,\n",
      "/home/tanzeel/.local/lib/python3.10/site-packages/numpy/core/_methods.py:163: RuntimeWarning: invalid value encountered in divide\n",
      "  arrmean = um.true_divide(arrmean, div, out=arrmean,\n",
      "/home/tanzeel/.local/lib/python3.10/site-packages/numpy/core/_methods.py:198: RuntimeWarning: invalid value encountered in scalar divide\n",
      "  ret = ret.dtype.type(ret / rcount)\n",
      "2024/03/14 16:21:45 WARNING mlflow.metrics.metric_definitions: Failed to load flesch kincaid metric, skipping metric logging.\n",
      "2024/03/14 16:21:45 WARNING mlflow.models.evaluation.default_evaluator: Did not log builtin metric 'flesch_kincaid_grade_level' because it returned None.\n",
      "2024/03/14 16:21:45 WARNING mlflow.metrics.metric_definitions: Failed to load automated readability index metric, skipping metric logging.\n",
      "2024/03/14 16:21:45 WARNING mlflow.models.evaluation.default_evaluator: Did not log builtin metric 'ari_grade_level' because it returned None.\n",
      "2024/03/14 16:21:45 WARNING mlflow.models.evaluation.default_evaluator: Did not log builtin metric 'exact_match' because it returned None.\n",
      "100%|██████████| 3/3 [00:00<00:00, 39693.73it/s]\n"
     ]
    },
    {
     "name": "stdout",
     "output_type": "stream",
     "text": [
      "{'latency/mean': 7.5067958037058515, 'latency/variance': 24.82195903242444, 'latency/p90': 11.271556663513184, 'toxicity/v1/mean': 0.00693867039323474, 'toxicity/v1/variance': 4.829216366625462e-05, 'toxicity/v1/p90': 0.013998276367783547, 'toxicity/v1/ratio': 0.0, 'relevance/v1/mean': nan, 'relevance/v1/variance': nan}\n"
     ]
    },
    {
     "name": "stderr",
     "output_type": "stream",
     "text": [
      "Downloading artifacts: 100%|██████████| 1/1 [00:00<00:00, 1759.36it/s]\n"
     ]
    },
    {
     "data": {
      "text/html": [
       "<div>\n",
       "<style scoped>\n",
       "    .dataframe tbody tr th:only-of-type {\n",
       "        vertical-align: middle;\n",
       "    }\n",
       "\n",
       "    .dataframe tbody tr th {\n",
       "        vertical-align: top;\n",
       "    }\n",
       "\n",
       "    .dataframe thead th {\n",
       "        text-align: right;\n",
       "    }\n",
       "</style>\n",
       "<table border=\"1\" class=\"dataframe\">\n",
       "  <thead>\n",
       "    <tr style=\"text-align: right;\">\n",
       "      <th></th>\n",
       "      <th>questions</th>\n",
       "      <th>retrieved_doc_ids</th>\n",
       "      <th>outputs</th>\n",
       "      <th>source_documents</th>\n",
       "      <th>latency</th>\n",
       "      <th>token_count</th>\n",
       "      <th>toxicity/v1/score</th>\n",
       "      <th>relevance/v1/score</th>\n",
       "      <th>relevance/v1/justification</th>\n",
       "    </tr>\n",
       "  </thead>\n",
       "  <tbody>\n",
       "    <tr>\n",
       "      <th>0</th>\n",
       "      <td>When will the lab heating was started early mo...</td>\n",
       "      <td>[Pdf_Parsers_Txt_Files/Thermal Test Report_par...</td>\n",
       "      <td>10 am on the\\nMonday. The heating  and  was ...</td>\n",
       "      <td>[{'lc_attributes': {}, 'lc_secrets': {}, 'meta...</td>\n",
       "      <td>11.438267</td>\n",
       "      <td>321</td>\n",
       "      <td>0.016649</td>\n",
       "      <td>NaN</td>\n",
       "      <td>Failed to score model on payload. Error:</td>\n",
       "    </tr>\n",
       "    <tr>\n",
       "      <th>1</th>\n",
       "      <td>Explore the interactions between the NGM app, ...</td>\n",
       "      <td>[Pdf_Parsers_Txt_Files/Basic Structure of the ...</td>\n",
       "      <td></td>\n",
       "      <td>[{'lc_attributes': {}, 'lc_secrets': {}, 'meta...</td>\n",
       "      <td>0.477407</td>\n",
       "      <td>0</td>\n",
       "      <td>0.000771</td>\n",
       "      <td>NaN</td>\n",
       "      <td>Failed to score model on payload. Error:</td>\n",
       "    </tr>\n",
       "    <tr>\n",
       "      <th>2</th>\n",
       "      <td>How do the Cloud Manager, WiFi Wizard, and Dat...</td>\n",
       "      <td>[Pdf_Parsers_Txt_Files/Basic Structure of the ...</td>\n",
       "      <td>The Cloud Manager is an important part of our...</td>\n",
       "      <td>[{'lc_attributes': {}, 'lc_secrets': {}, 'meta...</td>\n",
       "      <td>10.604713</td>\n",
       "      <td>237</td>\n",
       "      <td>0.003396</td>\n",
       "      <td>NaN</td>\n",
       "      <td>Failed to score model on payload. Error:</td>\n",
       "    </tr>\n",
       "  </tbody>\n",
       "</table>\n",
       "</div>"
      ],
      "text/plain": [
       "                                           questions  \\\n",
       "0  When will the lab heating was started early mo...   \n",
       "1  Explore the interactions between the NGM app, ...   \n",
       "2  How do the Cloud Manager, WiFi Wizard, and Dat...   \n",
       "\n",
       "                                   retrieved_doc_ids  \\\n",
       "0  [Pdf_Parsers_Txt_Files/Thermal Test Report_par...   \n",
       "1  [Pdf_Parsers_Txt_Files/Basic Structure of the ...   \n",
       "2  [Pdf_Parsers_Txt_Files/Basic Structure of the ...   \n",
       "\n",
       "                                             outputs  \\\n",
       "0    10 am on the\\nMonday. The heating  and  was ...   \n",
       "1                                                      \n",
       "2   The Cloud Manager is an important part of our...   \n",
       "\n",
       "                                    source_documents    latency  token_count  \\\n",
       "0  [{'lc_attributes': {}, 'lc_secrets': {}, 'meta...  11.438267          321   \n",
       "1  [{'lc_attributes': {}, 'lc_secrets': {}, 'meta...   0.477407            0   \n",
       "2  [{'lc_attributes': {}, 'lc_secrets': {}, 'meta...  10.604713          237   \n",
       "\n",
       "   toxicity/v1/score  relevance/v1/score  \\\n",
       "0           0.016649                 NaN   \n",
       "1           0.000771                 NaN   \n",
       "2           0.003396                 NaN   \n",
       "\n",
       "                  relevance/v1/justification  \n",
       "0  Failed to score model on payload. Error:   \n",
       "1  Failed to score model on payload. Error:   \n",
       "2  Failed to score model on payload. Error:   "
      ]
     },
     "metadata": {},
     "output_type": "display_data"
    }
   ],
   "source": [
    "with mlflow.start_run():\n",
    "    results = mlflow.evaluate(\n",
    "        model,\n",
    "        eval_df,\n",
    "        model_type=\"question-answering\",\n",
    "        evaluators=\"default\",\n",
    "        predictions=\"result\",\n",
    "        extra_metrics=[relevance_metric, mlflow.metrics.latency()],\n",
    "        evaluator_config={\n",
    "            \"col_mapping\": {\n",
    "                \"inputs\": \"questions\",\n",
    "                \"context\": \"source_documents\",\n",
    "            }\n",
    "        },\n",
    "    )\n",
    "    print(results.metrics)\n",
    "\n",
    "display(results.tables[\"eval_results_table\"])"
   ]
  },
  {
   "cell_type": "code",
   "execution_count": 26,
   "metadata": {},
   "outputs": [
    {
     "name": "stderr",
     "output_type": "stream",
     "text": [
      "Downloading artifacts: 100%|██████████| 1/1 [00:00<00:00, 1416.04it/s]\n"
     ]
    },
    {
     "data": {
      "text/plain": [
       "[{'lc_attributes': {},\n",
       "  'lc_secrets': {},\n",
       "  'metadata': {'source': 'Pdf_Parsers_Txt_Files/Thermal Test Report_parsed.txt'},\n",
       "  'page_content': 'The lab heating was started early morning at approximately 7 pm. Initially all\\nheaters  were  placed  at their designated  positions  in the lab. However,  after some\\nhours at around 10pm heaters were moved such that the atmosphere around the\\nactual system is targeted. Two heaters were placed at  some distance from the\\nbattery enclosure before closing it to raise the temperature of the immediate\\nsurroundings of the cell modules. Then all loggers were inspected before closing\\nthe enclosure. Once the enclosure was closed then lab was sealed and door',\n",
       "  'type': 'Document'},\n",
       " {'lc_attributes': {},\n",
       "  'lc_secrets': {},\n",
       "  'metadata': {'source': 'Pdf_Parsers_Txt_Files/Thermal Test Report_parsed.txt'},\n",
       "  'page_content': 'Test was started at approximately 12:45 pm. At this point the ambient temperature\\naround the system was approxima tely 42 ℃and the cells were at 40 ℃. First,\\ncharging was started at 0.5C and it was stopped when SoC reached 75%. Then\\nimmediately, discharging was started at 2:10 pm at 1C which was stopped at 2:39\\npm when SoC reached 27% and charging was resumed at 0.5C.  The BMS started\\ntapering  the current  as soon  as the cells temperature  crossed  44 ℃. Charging  was\\nstopped at 4:00 pm at SoC 61% and started discharging was started at 1C.',\n",
       "  'type': 'Document'},\n",
       " {'lc_attributes': {},\n",
       "  'lc_secrets': {},\n",
       "  'metadata': {'source': 'Pdf_Parsers_Txt_Files/Thermal Test Report_parsed.txt'},\n",
       "  'page_content': 'Discharging  was stopped  at 4:24 pm at SoC 20% and charging was  resumed.\\nHowever, charging did not resume due to its temperature range being violated.\\nOnce  the temperature  dropped  then charging  resumed  again  at which  point  the\\ntest was terminated.',\n",
       "  'type': 'Document'},\n",
       " {'lc_attributes': {},\n",
       "  'lc_secrets': {},\n",
       "  'metadata': {'source': 'Pdf_Parsers_Txt_Files/ProductManual_ HVGoodWe_parsed.txt'},\n",
       "  'page_content': 'dizziness felt,if installed at heights.\\nIt is preferred that solar panels be cleaned early in the morning or late in the evening.',\n",
       "  'type': 'Document'}]"
      ]
     },
     "execution_count": 26,
     "metadata": {},
     "output_type": "execute_result"
    }
   ],
   "source": [
    "results.tables[\"eval_results_table\"][\"source_documents\"][0]"
   ]
  },
  {
   "cell_type": "markdown",
   "metadata": {},
   "source": [
    "## faithfulness"
   ]
  },
  {
   "cell_type": "code",
   "execution_count": 29,
   "metadata": {},
   "outputs": [
    {
     "name": "stdout",
     "output_type": "stream",
     "text": [
      "EvaluationMetric(name=faithfulness, greater_is_better=True, long_name=faithfulness, version=v1, metric_details=\n",
      "Task:\n",
      "You must return the following fields in your response in two lines, one below the other:\n",
      "score: Your numerical score for the model's faithfulness based on the rubric\n",
      "justification: Your reasoning about the model's faithfulness score\n",
      "\n",
      "You are an impartial judge. You will be given an input that was sent to a machine\n",
      "learning model, and you will be given an output that the model produced. You\n",
      "may also be given additional information that was used by the model to generate the output.\n",
      "\n",
      "Your task is to determine a numerical score called faithfulness based on the input and output.\n",
      "A definition of faithfulness and a grading rubric are provided below.\n",
      "You must use the grading rubric to determine your score. You must also justify your score.\n",
      "\n",
      "Examples could be included below for reference. Make sure to use them as references and to\n",
      "understand them before completing the task.\n",
      "\n",
      "Input:\n",
      "{input}\n",
      "\n",
      "Output:\n",
      "{output}\n",
      "\n",
      "{grading_context_columns}\n",
      "\n",
      "Metric definition:\n",
      "Faithfulness is only evaluated with the provided output and provided context, please ignore the provided input entirely when scoring faithfulness. Faithfulness assesses how much of the provided output is factually consistent with the provided context. A higher score indicates that a higher proportion of claims present in the output can be derived from the provided context. Faithfulness does not consider how much extra information from the context is not present in the output.\n",
      "\n",
      "Grading rubric:\n",
      "Faithfulness: Below are the details for different scores:\n",
      "- Score 1: None of the claims in the output can be inferred from the provided context.\n",
      "- Score 2: Some of the claims in the output can be inferred from the provided context, but the majority of the output is missing from, inconsistent with, or contradictory to the provided context.\n",
      "- Score 3: Half or more of the claims in the output can be inferred from the provided context.\n",
      "- Score 4: Most of the claims in the output can be inferred from the provided context, with very little information that is not directly supported by the provided context.\n",
      "- Score 5: All of the claims in the output are directly supported by the provided context, demonstrating high faithfulness to the provided context.\n",
      "\n",
      "Examples:\n",
      "\n",
      "Example Output:\n",
      "The NGM app facilitates system initialization by providing configurations to components and ensuring communication channels are established.\n",
      "\n",
      "Additional information used by the model:\n",
      "key: context\n",
      "value:\n",
      "The NGM app is responsible for communicating with various components such as the BMS, Cloud, HV Control Board, and Inverter. It provides configurations for initial setup and ensures communication channels are established before the system starts functioning.\n",
      "\n",
      "Example score: 5\n",
      "Example justification: The output accurately describes how the NGM app facilitates system initialization, matching the information provided in the context.\n",
      "        \n",
      "\n",
      "Example Output:\n",
      "The BMS Manager is responsible for handling all NGM based actions related to the battery and cloud. It communicates with all BMSes attached to the system, reads data such as pack current and voltage, and processes this data.\n",
      "\n",
      "Additional information used by the model:\n",
      "key: context\n",
      "value:\n",
      "The BMS Manager serves as a crucial link between higher-level actions related to the battery and cloud interactions. It communicates with all BMSes attached to the system, reads data such as pack current and voltage, and processes this data before passing relevant information to other processes.\n",
      "\n",
      "Example score: 2\n",
      "Example justification: While the output provides some information about the BMS Manager, it lacks detail and does not fully capture its role as described in the context.\n",
      "        \n",
      "\n",
      "You must return the following fields in your response in two lines, one below the other:\n",
      "score: Your numerical score for the model's faithfulness based on the rubric\n",
      "justification: Your reasoning about the model's faithfulness score\n",
      "\n",
      "Do not add additional new lines. Do not add any other fields.\n",
      "    )\n"
     ]
    }
   ],
   "source": [
    "from dataclasses import dataclass\n",
    "\n",
    "@dataclass\n",
    "class EvaluationExample:\n",
    "    input: str\n",
    "    output: str\n",
    "    score: int\n",
    "    justification: str\n",
    "    grading_context: dict\n",
    "\n",
    "# Create a good and bad example for faithfulness in the context of this problem\n",
    "faithfulness_examples = [\n",
    "    EvaluationExample(\n",
    "        input=\"How does the NGM app facilitate system initialization?\",\n",
    "        output=\"The NGM app facilitates system initialization by providing configurations to components and ensuring communication channels are established.\",\n",
    "        score=5,\n",
    "        justification=\"The output accurately describes how the NGM app facilitates system initialization, matching the information provided in the context.\",\n",
    "        grading_context={\n",
    "            \"context\": \"The NGM app is responsible for communicating with various components such as the BMS, Cloud, HV Control Board, and Inverter. It provides configurations for initial setup and ensures communication channels are established before the system starts functioning.\"\n",
    "        },\n",
    "    ),\n",
    "    EvaluationExample(\n",
    "        input=\"What is the role of the BMS Manager?\",\n",
    "        output=\"The BMS Manager is responsible for handling all NGM based actions related to the battery and cloud. It communicates with all BMSes attached to the system, reads data such as pack current and voltage, and processes this data.\",\n",
    "        score=2,\n",
    "        justification=\"While the output provides some information about the BMS Manager, it lacks detail and does not fully capture its role as described in the context.\",\n",
    "        grading_context={\n",
    "            \"context\": \"The BMS Manager serves as a crucial link between higher-level actions related to the battery and cloud interactions. It communicates with all BMSes attached to the system, reads data such as pack current and voltage, and processes this data before passing relevant information to other processes.\"\n",
    "        },\n",
    "    ),\n",
    "]\n",
    "\n",
    "\n",
    "faithfulness_metric = faithfulness(\n",
    "    model=model_end_point, examples=faithfulness_examples\n",
    ")\n",
    "print(faithfulness_metric)"
   ]
  },
  {
   "cell_type": "code",
   "execution_count": 28,
   "metadata": {},
   "outputs": [
    {
     "name": "stderr",
     "output_type": "stream",
     "text": [
      "/home/tanzeel/.local/lib/python3.10/site-packages/mlflow/data/digest_utils.py:26: FutureWarning: DataFrame.applymap has been deprecated. Use DataFrame.map instead.\n",
      "  string_columns = trimmed_df.columns[(df.applymap(type) == str).all(0)]\n",
      "/home/tanzeel/.local/lib/python3.10/site-packages/mlflow/models/evaluation/base.py:521: FutureWarning: DataFrame.applymap has been deprecated. Use DataFrame.map instead.\n",
      "  data = data.applymap(_hash_array_like_element_as_bytes)\n",
      "2024/03/14 16:33:54 INFO mlflow.models.evaluation.base: Evaluating the model with the default evaluator.\n",
      "2024/03/14 16:33:54 INFO mlflow.models.evaluation.default_evaluator: Computing model predictions.\n",
      "Setting `pad_token_id` to `eos_token_id`:50256 for open-end generation.\n",
      "Setting `pad_token_id` to `eos_token_id`:50256 for open-end generation.\n",
      "Setting `pad_token_id` to `eos_token_id`:50256 for open-end generation.\n",
      "2024/03/14 16:34:38 INFO mlflow.models.evaluation.default_evaluator: Testing metrics on first row...\n",
      "2024/03/14 16:34:39 WARNING mlflow.metrics.metric_definitions: Failed to load flesch kincaid metric, skipping metric logging.\n",
      "2024/03/14 16:34:39 WARNING mlflow.models.evaluation.default_evaluator: Did not log builtin metric 'flesch_kincaid_grade_level' because it returned None.\n",
      "2024/03/14 16:34:39 WARNING mlflow.metrics.metric_definitions: Failed to load automated readability index metric, skipping metric logging.\n",
      "2024/03/14 16:34:39 WARNING mlflow.models.evaluation.default_evaluator: Did not log builtin metric 'ari_grade_level' because it returned None.\n",
      "2024/03/14 16:34:39 WARNING mlflow.models.evaluation.default_evaluator: Did not log builtin metric 'exact_match' because it returned None.\n",
      "100%|██████████| 1/1 [00:00<00:00, 15947.92it/s]\n",
      "/home/tanzeel/.local/lib/python3.10/site-packages/numpy/core/fromnumeric.py:3504: RuntimeWarning: Mean of empty slice.\n",
      "  return _methods._mean(a, axis=axis, dtype=dtype,\n",
      "/home/tanzeel/.local/lib/python3.10/site-packages/numpy/core/_methods.py:129: RuntimeWarning: invalid value encountered in scalar divide\n",
      "  ret = ret.dtype.type(ret / rcount)\n",
      "/home/tanzeel/.local/lib/python3.10/site-packages/numpy/core/fromnumeric.py:3787: RuntimeWarning: Degrees of freedom <= 0 for slice\n",
      "  return _methods._var(a, axis=axis, dtype=dtype, out=out, ddof=ddof,\n",
      "/home/tanzeel/.local/lib/python3.10/site-packages/numpy/core/_methods.py:163: RuntimeWarning: invalid value encountered in divide\n",
      "  arrmean = um.true_divide(arrmean, div, out=arrmean,\n",
      "/home/tanzeel/.local/lib/python3.10/site-packages/numpy/core/_methods.py:198: RuntimeWarning: invalid value encountered in scalar divide\n",
      "  ret = ret.dtype.type(ret / rcount)\n",
      "100%|██████████| 1/1 [00:00<00:00, 20164.92it/s]\n",
      "2024/03/14 16:34:40 WARNING mlflow.metrics.metric_definitions: Failed to load flesch kincaid metric, skipping metric logging.\n",
      "2024/03/14 16:34:40 WARNING mlflow.models.evaluation.default_evaluator: Did not log builtin metric 'flesch_kincaid_grade_level' because it returned None.\n",
      "2024/03/14 16:34:40 WARNING mlflow.metrics.metric_definitions: Failed to load automated readability index metric, skipping metric logging.\n",
      "2024/03/14 16:34:40 WARNING mlflow.models.evaluation.default_evaluator: Did not log builtin metric 'ari_grade_level' because it returned None.\n",
      "2024/03/14 16:34:40 WARNING mlflow.models.evaluation.default_evaluator: Did not log builtin metric 'exact_match' because it returned None.\n",
      "100%|██████████| 3/3 [00:00<00:00, 42509.84it/s]\n",
      "100%|██████████| 3/3 [00:00<00:00, 38014.84it/s]\n"
     ]
    },
    {
     "name": "stdout",
     "output_type": "stream",
     "text": [
      "{'latency/mean': 14.775534073511759, 'latency/variance': 5.178618772054291, 'latency/p90': 16.487112188339232, 'toxicity/v1/mean': 0.02782468715061744, 'toxicity/v1/variance': 0.0010573352478261482, 'toxicity/v1/p90': 0.06026759510859847, 'toxicity/v1/ratio': 0.0, 'faithfulness/v1/mean': nan, 'faithfulness/v1/variance': nan, 'relevance/v1/mean': nan, 'relevance/v1/variance': nan}\n"
     ]
    },
    {
     "name": "stderr",
     "output_type": "stream",
     "text": [
      "Downloading artifacts: 100%|██████████| 1/1 [00:00<00:00, 858.08it/s] \n"
     ]
    },
    {
     "data": {
      "text/html": [
       "<div>\n",
       "<style scoped>\n",
       "    .dataframe tbody tr th:only-of-type {\n",
       "        vertical-align: middle;\n",
       "    }\n",
       "\n",
       "    .dataframe tbody tr th {\n",
       "        vertical-align: top;\n",
       "    }\n",
       "\n",
       "    .dataframe thead th {\n",
       "        text-align: right;\n",
       "    }\n",
       "</style>\n",
       "<table border=\"1\" class=\"dataframe\">\n",
       "  <thead>\n",
       "    <tr style=\"text-align: right;\">\n",
       "      <th></th>\n",
       "      <th>questions</th>\n",
       "      <th>outputs</th>\n",
       "      <th>source_documents</th>\n",
       "      <th>latency</th>\n",
       "      <th>token_count</th>\n",
       "      <th>toxicity/v1/score</th>\n",
       "      <th>faithfulness/v1/score</th>\n",
       "      <th>faithfulness/v1/justification</th>\n",
       "      <th>relevance/v1/score</th>\n",
       "      <th>relevance/v1/justification</th>\n",
       "    </tr>\n",
       "  </thead>\n",
       "  <tbody>\n",
       "    <tr>\n",
       "      <th>0</th>\n",
       "      <td>When will the lab heating was started early mo...</td>\n",
       "      <td>it started the\\n\\nmain heating at approximate...</td>\n",
       "      <td>[{'lc_attributes': {}, 'lc_secrets': {}, 'meta...</td>\n",
       "      <td>16.205352</td>\n",
       "      <td>511</td>\n",
       "      <td>0.006204</td>\n",
       "      <td>NaN</td>\n",
       "      <td>Failed to score model on payload. Error:</td>\n",
       "      <td>NaN</td>\n",
       "      <td>Failed to score model on payload. Error:</td>\n",
       "    </tr>\n",
       "    <tr>\n",
       "      <th>1</th>\n",
       "      <td>Explore the interactions between the NGM app, ...</td>\n",
       "      <td>\\n\\nThe BMS Manager must have the ability cont...</td>\n",
       "      <td>[{'lc_attributes': {}, 'lc_secrets': {}, 'meta...</td>\n",
       "      <td>11.563698</td>\n",
       "      <td>199</td>\n",
       "      <td>0.073783</td>\n",
       "      <td>NaN</td>\n",
       "      <td>Failed to score model on payload. Error:</td>\n",
       "      <td>NaN</td>\n",
       "      <td>Failed to score model on payload. Error:</td>\n",
       "    </tr>\n",
       "    <tr>\n",
       "      <th>2</th>\n",
       "      <td>How do the Cloud Manager, WiFi Wizard, and Dat...</td>\n",
       "      <td>\\n\\n1.      Use   \\ncloud Connectivity and    ...</td>\n",
       "      <td>[{'lc_attributes': {}, 'lc_secrets': {}, 'meta...</td>\n",
       "      <td>16.557552</td>\n",
       "      <td>214</td>\n",
       "      <td>0.003486</td>\n",
       "      <td>NaN</td>\n",
       "      <td>Failed to score model on payload. Error:</td>\n",
       "      <td>NaN</td>\n",
       "      <td>Failed to score model on payload. Error:</td>\n",
       "    </tr>\n",
       "  </tbody>\n",
       "</table>\n",
       "</div>"
      ],
      "text/plain": [
       "                                           questions  \\\n",
       "0  When will the lab heating was started early mo...   \n",
       "1  Explore the interactions between the NGM app, ...   \n",
       "2  How do the Cloud Manager, WiFi Wizard, and Dat...   \n",
       "\n",
       "                                             outputs  \\\n",
       "0   it started the\\n\\nmain heating at approximate...   \n",
       "1  \\n\\nThe BMS Manager must have the ability cont...   \n",
       "2  \\n\\n1.      Use   \\ncloud Connectivity and    ...   \n",
       "\n",
       "                                    source_documents    latency  token_count  \\\n",
       "0  [{'lc_attributes': {}, 'lc_secrets': {}, 'meta...  16.205352          511   \n",
       "1  [{'lc_attributes': {}, 'lc_secrets': {}, 'meta...  11.563698          199   \n",
       "2  [{'lc_attributes': {}, 'lc_secrets': {}, 'meta...  16.557552          214   \n",
       "\n",
       "   toxicity/v1/score  faithfulness/v1/score  \\\n",
       "0           0.006204                    NaN   \n",
       "1           0.073783                    NaN   \n",
       "2           0.003486                    NaN   \n",
       "\n",
       "               faithfulness/v1/justification  relevance/v1/score  \\\n",
       "0  Failed to score model on payload. Error:                  NaN   \n",
       "1  Failed to score model on payload. Error:                  NaN   \n",
       "2  Failed to score model on payload. Error:                  NaN   \n",
       "\n",
       "                  relevance/v1/justification  \n",
       "0  Failed to score model on payload. Error:   \n",
       "1  Failed to score model on payload. Error:   \n",
       "2  Failed to score model on payload. Error:   "
      ]
     },
     "metadata": {},
     "output_type": "display_data"
    }
   ],
   "source": [
    "with mlflow.start_run():\n",
    "    results = mlflow.evaluate(\n",
    "        model,\n",
    "        eval_df,\n",
    "        model_type=\"question-answering\",\n",
    "        evaluators=\"default\",\n",
    "        predictions=\"result\",\n",
    "        extra_metrics=[faithfulness_metric, relevance_metric, mlflow.metrics.latency()],\n",
    "        evaluator_config={\n",
    "            \"col_mapping\": {\n",
    "                \"inputs\": \"questions\",\n",
    "                \"context\": \"source_documents\",\n",
    "            }\n",
    "        },\n",
    "    )\n",
    "    print(results.metrics)\n",
    "\n",
    "display(results.tables[\"eval_results_table\"])"
   ]
  },
  {
   "cell_type": "code",
   "execution_count": 62,
   "metadata": {},
   "outputs": [
    {
     "name": "stdout",
     "output_type": "stream",
     "text": [
      "[2024-03-12 14:40:15 +0500] [20571] [INFO] Starting gunicorn 20.1.0\n",
      "[2024-03-12 14:40:15 +0500] [20571] [INFO] Listening at: http://127.0.0.1:5000 (20571)\n",
      "[2024-03-12 14:40:15 +0500] [20571] [INFO] Using worker: sync\n",
      "[2024-03-12 14:40:15 +0500] [20572] [INFO] Booting worker with pid: 20572\n",
      "[2024-03-12 14:40:15 +0500] [20573] [INFO] Booting worker with pid: 20573\n",
      "[2024-03-12 14:40:15 +0500] [20574] [INFO] Booting worker with pid: 20574\n",
      "[2024-03-12 14:40:15 +0500] [20605] [INFO] Booting worker with pid: 20605\n",
      "^C\n",
      "[2024-03-12 14:40:58 +0500] [20571] [INFO] Handling signal: int\n",
      "[2024-03-12 14:40:58 +0500] [20572] [INFO] Worker exiting (pid: 20572)\n",
      "[2024-03-12 14:40:58 +0500] [20573] [INFO] Worker exiting (pid: 20573)\n",
      "[2024-03-12 14:40:58 +0500] [20605] [INFO] Worker exiting (pid: 20605)\n",
      "[2024-03-12 14:40:58 +0500] [20574] [INFO] Worker exiting (pid: 20574)\n"
     ]
    }
   ],
   "source": [
    "!mlflow ui"
   ]
  }
 ],
 "metadata": {
  "kernelspec": {
   "display_name": "Python 3",
   "language": "python",
   "name": "python3"
  },
  "language_info": {
   "codemirror_mode": {
    "name": "ipython",
    "version": 3
   },
   "file_extension": ".py",
   "mimetype": "text/x-python",
   "name": "python",
   "nbconvert_exporter": "python",
   "pygments_lexer": "ipython3",
   "version": "3.10.12"
  }
 },
 "nbformat": 4,
 "nbformat_minor": 2
}
